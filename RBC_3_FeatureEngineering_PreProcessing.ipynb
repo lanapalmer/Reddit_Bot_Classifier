{
 "cells": [
  {
   "cell_type": "markdown",
   "metadata": {},
   "source": [
    "## Springboard Data Science Track: Capstone Two\n",
    "\n",
    "# Bot Detection on Reddit\n",
    "\n",
    "<i>Objective: To build a classifier that identifies Reddit users as 'bots' or 'non-bots'</i>"
   ]
  },
  {
   "cell_type": "markdown",
   "metadata": {},
   "source": [
    "## 3. Feature Engineering and Pre-processing\n",
    "<ul>\n",
    "    <li><a href='#FE'>A. Feature Engineering</a></li>\n",
    "    <li><a href='#PP'>B. Pre-Processing</a></li>\n",
    "    <li><a href='#FM'>B. Fit Initial Model</a></li>\n",
    "    <li><a href='#SD'>D. Save Data</a></li>"
   ]
  },
  {
   "cell_type": "code",
   "execution_count": 227,
   "metadata": {},
   "outputs": [],
   "source": [
    "#Import Packages\n",
    "import pandas as pd\n",
    "import numpy as np\n",
    "import seaborn as sns\n",
    "import matplotlib.pyplot as plt\n",
    "\n",
    "from sklearn.feature_extraction.text import CountVectorizer\n",
    "from sklearn.feature_extraction.text import TfidfTransformer\n",
    "import pickle\n",
    "from sklearn.model_selection import train_test_split\n",
    "from sklearn import preprocessing\n",
    "import emoji\n",
    "import textstat\n",
    "import sklearn\n",
    "\n",
    "from sklearn.linear_model import LogisticRegression\n",
    "from sklearn.ensemble import GradientBoostingClassifier\n",
    "\n",
    "\n",
    "pd.options.mode.use_inf_as_na = True\n",
    "pd.options.mode.chained_assignment = None  # default='warn'"
   ]
  },
  {
   "cell_type": "code",
   "execution_count": 228,
   "metadata": {},
   "outputs": [
    {
     "data": {
      "text/html": [
       "<div>\n",
       "<style scoped>\n",
       "    .dataframe tbody tr th:only-of-type {\n",
       "        vertical-align: middle;\n",
       "    }\n",
       "\n",
       "    .dataframe tbody tr th {\n",
       "        vertical-align: top;\n",
       "    }\n",
       "\n",
       "    .dataframe thead th {\n",
       "        text-align: right;\n",
       "    }\n",
       "</style>\n",
       "<table border=\"1\" class=\"dataframe\">\n",
       "  <thead>\n",
       "    <tr style=\"text-align: right;\">\n",
       "      <th></th>\n",
       "      <th>ID</th>\n",
       "      <th>Author</th>\n",
       "      <th>Comment</th>\n",
       "      <th>Subreddit</th>\n",
       "      <th>Score</th>\n",
       "      <th>Time</th>\n",
       "      <th>Flair</th>\n",
       "      <th>Class</th>\n",
       "    </tr>\n",
       "  </thead>\n",
       "  <tbody>\n",
       "    <tr>\n",
       "      <th>0</th>\n",
       "      <td>e7wig3e</td>\n",
       "      <td>ADHDbot</td>\n",
       "      <td>Just dropping by to show that OP is completely...</td>\n",
       "      <td>unpopularopinion</td>\n",
       "      <td>4</td>\n",
       "      <td>2018-10-16 16:47:28</td>\n",
       "      <td>None</td>\n",
       "      <td>Bot</td>\n",
       "    </tr>\n",
       "    <tr>\n",
       "      <th>1</th>\n",
       "      <td>cww687m</td>\n",
       "      <td>ADHDbot</td>\n",
       "      <td>As per the rules in the side bar, yes or no qu...</td>\n",
       "      <td>ADHD</td>\n",
       "      <td>1</td>\n",
       "      <td>2015-11-10 20:03:58</td>\n",
       "      <td>None</td>\n",
       "      <td>Bot</td>\n",
       "    </tr>\n",
       "  </tbody>\n",
       "</table>\n",
       "</div>"
      ],
      "text/plain": [
       "        ID   Author                                            Comment  \\\n",
       "0  e7wig3e  ADHDbot  Just dropping by to show that OP is completely...   \n",
       "1  cww687m  ADHDbot  As per the rules in the side bar, yes or no qu...   \n",
       "\n",
       "          Subreddit  Score                 Time Flair Class  \n",
       "0  unpopularopinion      4  2018-10-16 16:47:28  None   Bot  \n",
       "1              ADHD      1  2015-11-10 20:03:58  None   Bot  "
      ]
     },
     "execution_count": 228,
     "metadata": {},
     "output_type": "execute_result"
    }
   ],
   "source": [
    "#Re-import Cleaned Data\n",
    "df = pd.read_csv('Data/All_Comments_Clean.csv')\n",
    "\n",
    "#Visual Check\n",
    "df.head(2)"
   ]
  },
  {
   "cell_type": "code",
   "execution_count": 229,
   "metadata": {},
   "outputs": [
    {
     "data": {
      "text/html": [
       "<div>\n",
       "<style scoped>\n",
       "    .dataframe tbody tr th:only-of-type {\n",
       "        vertical-align: middle;\n",
       "    }\n",
       "\n",
       "    .dataframe tbody tr th {\n",
       "        vertical-align: top;\n",
       "    }\n",
       "\n",
       "    .dataframe thead th {\n",
       "        text-align: right;\n",
       "    }\n",
       "</style>\n",
       "<table border=\"1\" class=\"dataframe\">\n",
       "  <thead>\n",
       "    <tr style=\"text-align: right;\">\n",
       "      <th></th>\n",
       "      <th>ID</th>\n",
       "      <th>Author</th>\n",
       "      <th>Comment</th>\n",
       "      <th>Subreddit</th>\n",
       "      <th>Score</th>\n",
       "      <th>Time</th>\n",
       "      <th>Flair</th>\n",
       "      <th>Class</th>\n",
       "    </tr>\n",
       "  </thead>\n",
       "  <tbody>\n",
       "    <tr>\n",
       "      <th>39384</th>\n",
       "      <td>dgga1g2</td>\n",
       "      <td>janellemonae</td>\n",
       "      <td>❤️</td>\n",
       "      <td>pics</td>\n",
       "      <td>3</td>\n",
       "      <td>2017-04-18 19:49:01</td>\n",
       "      <td>None</td>\n",
       "      <td>Non-Bot</td>\n",
       "    </tr>\n",
       "    <tr>\n",
       "      <th>39385</th>\n",
       "      <td>ddur7h1</td>\n",
       "      <td>janellemonae</td>\n",
       "      <td>Trying to get him to get an account so he can ...</td>\n",
       "      <td>hiphopheads</td>\n",
       "      <td>253</td>\n",
       "      <td>2017-02-16 22:22:57</td>\n",
       "      <td>THE QUEEN</td>\n",
       "      <td>Non-Bot</td>\n",
       "    </tr>\n",
       "  </tbody>\n",
       "</table>\n",
       "</div>"
      ],
      "text/plain": [
       "            ID        Author  \\\n",
       "39384  dgga1g2  janellemonae   \n",
       "39385  ddur7h1  janellemonae   \n",
       "\n",
       "                                                 Comment    Subreddit  Score  \\\n",
       "39384                                                 ❤️         pics      3   \n",
       "39385  Trying to get him to get an account so he can ...  hiphopheads    253   \n",
       "\n",
       "                      Time      Flair    Class  \n",
       "39384  2017-04-18 19:49:01       None  Non-Bot  \n",
       "39385  2017-02-16 22:22:57  THE QUEEN  Non-Bot  "
      ]
     },
     "execution_count": 229,
     "metadata": {},
     "output_type": "execute_result"
    }
   ],
   "source": [
    "df.tail(2)"
   ]
  },
  {
   "cell_type": "markdown",
   "metadata": {},
   "source": [
    "### <a id='FE'>A. Feature Engineering</a>"
   ]
  },
  {
   "cell_type": "markdown",
   "metadata": {},
   "source": [
    "I will create the following features:\n",
    "<ul>\n",
    "<li>Amount of flair</li>\n",
    "    <li>Emoji Count</li>\n",
    "<li>Clean text, all lowercase, and remove special characters.\n",
    "<li>Comment Length</li>\n",
    "<li>Average Word Length</li>\n",
    "    <li>Lexicon Count</li>\n",
    "    <li>Sentence Count</li>\n",
    "</ul>"
   ]
  },
  {
   "cell_type": "markdown",
   "metadata": {},
   "source": [
    "#### i. Flair Count"
   ]
  },
  {
   "cell_type": "code",
   "execution_count": 230,
   "metadata": {},
   "outputs": [
    {
     "data": {
      "text/html": [
       "<div>\n",
       "<style scoped>\n",
       "    .dataframe tbody tr th:only-of-type {\n",
       "        vertical-align: middle;\n",
       "    }\n",
       "\n",
       "    .dataframe tbody tr th {\n",
       "        vertical-align: top;\n",
       "    }\n",
       "\n",
       "    .dataframe thead th {\n",
       "        text-align: right;\n",
       "    }\n",
       "</style>\n",
       "<table border=\"1\" class=\"dataframe\">\n",
       "  <thead>\n",
       "    <tr style=\"text-align: right;\">\n",
       "      <th></th>\n",
       "      <th>ID</th>\n",
       "      <th>Author</th>\n",
       "      <th>Comment</th>\n",
       "      <th>Subreddit</th>\n",
       "      <th>Score</th>\n",
       "      <th>Time</th>\n",
       "      <th>Flair</th>\n",
       "      <th>Class</th>\n",
       "      <th>FlairCount</th>\n",
       "    </tr>\n",
       "  </thead>\n",
       "  <tbody>\n",
       "    <tr>\n",
       "      <th>39384</th>\n",
       "      <td>dgga1g2</td>\n",
       "      <td>janellemonae</td>\n",
       "      <td>❤️</td>\n",
       "      <td>pics</td>\n",
       "      <td>3</td>\n",
       "      <td>2017-04-18 19:49:01</td>\n",
       "      <td>None</td>\n",
       "      <td>Non-Bot</td>\n",
       "      <td>0</td>\n",
       "    </tr>\n",
       "    <tr>\n",
       "      <th>39385</th>\n",
       "      <td>ddur7h1</td>\n",
       "      <td>janellemonae</td>\n",
       "      <td>Trying to get him to get an account so he can ...</td>\n",
       "      <td>hiphopheads</td>\n",
       "      <td>253</td>\n",
       "      <td>2017-02-16 22:22:57</td>\n",
       "      <td>THE QUEEN</td>\n",
       "      <td>Non-Bot</td>\n",
       "      <td>1</td>\n",
       "    </tr>\n",
       "  </tbody>\n",
       "</table>\n",
       "</div>"
      ],
      "text/plain": [
       "            ID        Author  \\\n",
       "39384  dgga1g2  janellemonae   \n",
       "39385  ddur7h1  janellemonae   \n",
       "\n",
       "                                                 Comment    Subreddit  Score  \\\n",
       "39384                                                 ❤️         pics      3   \n",
       "39385  Trying to get him to get an account so he can ...  hiphopheads    253   \n",
       "\n",
       "                      Time      Flair    Class  FlairCount  \n",
       "39384  2017-04-18 19:49:01       None  Non-Bot           0  \n",
       "39385  2017-02-16 22:22:57  THE QUEEN  Non-Bot           1  "
      ]
     },
     "execution_count": 230,
     "metadata": {},
     "output_type": "execute_result"
    }
   ],
   "source": [
    "#Create FlairCount\n",
    "df['FlairCount'] = df['Flair'].str.split(',').str.len()\n",
    "df.loc[df['Flair'] == 'None', 'FlairCount'] = 0\n",
    "#Visual Check\n",
    "df.tail(2)"
   ]
  },
  {
   "cell_type": "markdown",
   "metadata": {},
   "source": [
    "#### ii. Emoji Count"
   ]
  },
  {
   "cell_type": "markdown",
   "metadata": {},
   "source": [
    "As we can see above, many comments contain emojis. I'd like to get the total count, then see if bots or non-bots tend to use more emojis."
   ]
  },
  {
   "cell_type": "code",
   "execution_count": 231,
   "metadata": {},
   "outputs": [],
   "source": [
    "def split_count(info):\n",
    "    return len([c for c in info if c in emoji.UNICODE_EMOJI])"
   ]
  },
  {
   "cell_type": "code",
   "execution_count": 232,
   "metadata": {},
   "outputs": [
    {
     "data": {
      "text/html": [
       "<div>\n",
       "<style scoped>\n",
       "    .dataframe tbody tr th:only-of-type {\n",
       "        vertical-align: middle;\n",
       "    }\n",
       "\n",
       "    .dataframe tbody tr th {\n",
       "        vertical-align: top;\n",
       "    }\n",
       "\n",
       "    .dataframe thead th {\n",
       "        text-align: right;\n",
       "    }\n",
       "</style>\n",
       "<table border=\"1\" class=\"dataframe\">\n",
       "  <thead>\n",
       "    <tr style=\"text-align: right;\">\n",
       "      <th></th>\n",
       "      <th>ID</th>\n",
       "      <th>Author</th>\n",
       "      <th>Comment</th>\n",
       "      <th>Subreddit</th>\n",
       "      <th>Score</th>\n",
       "      <th>Time</th>\n",
       "      <th>Flair</th>\n",
       "      <th>Class</th>\n",
       "      <th>FlairCount</th>\n",
       "      <th>EmojiCount</th>\n",
       "    </tr>\n",
       "  </thead>\n",
       "  <tbody>\n",
       "    <tr>\n",
       "      <th>39384</th>\n",
       "      <td>dgga1g2</td>\n",
       "      <td>janellemonae</td>\n",
       "      <td>❤️</td>\n",
       "      <td>pics</td>\n",
       "      <td>3</td>\n",
       "      <td>2017-04-18 19:49:01</td>\n",
       "      <td>None</td>\n",
       "      <td>Non-Bot</td>\n",
       "      <td>0</td>\n",
       "      <td>1</td>\n",
       "    </tr>\n",
       "    <tr>\n",
       "      <th>39385</th>\n",
       "      <td>ddur7h1</td>\n",
       "      <td>janellemonae</td>\n",
       "      <td>Trying to get him to get an account so he can ...</td>\n",
       "      <td>hiphopheads</td>\n",
       "      <td>253</td>\n",
       "      <td>2017-02-16 22:22:57</td>\n",
       "      <td>THE QUEEN</td>\n",
       "      <td>Non-Bot</td>\n",
       "      <td>1</td>\n",
       "      <td>0</td>\n",
       "    </tr>\n",
       "  </tbody>\n",
       "</table>\n",
       "</div>"
      ],
      "text/plain": [
       "            ID        Author  \\\n",
       "39384  dgga1g2  janellemonae   \n",
       "39385  ddur7h1  janellemonae   \n",
       "\n",
       "                                                 Comment    Subreddit  Score  \\\n",
       "39384                                                 ❤️         pics      3   \n",
       "39385  Trying to get him to get an account so he can ...  hiphopheads    253   \n",
       "\n",
       "                      Time      Flair    Class  FlairCount  EmojiCount  \n",
       "39384  2017-04-18 19:49:01       None  Non-Bot           0           1  \n",
       "39385  2017-02-16 22:22:57  THE QUEEN  Non-Bot           1           0  "
      ]
     },
     "execution_count": 232,
     "metadata": {},
     "output_type": "execute_result"
    }
   ],
   "source": [
    "df[\"EmojiCount\"] = df[\"Comment\"].apply(split_count)\n",
    "df.tail(2)"
   ]
  },
  {
   "cell_type": "code",
   "execution_count": 233,
   "metadata": {},
   "outputs": [
    {
     "data": {
      "image/png": "[encoded data removed]",
      "text/plain": [
       "<Figure size 842.4x595.44 with 1 Axes>"
      ]
     },
     "metadata": {},
     "output_type": "display_data"
    }
   ],
   "source": [
    "#Cat Plot of Emoji Count\n",
    "sns.set(style=\"whitegrid\")\n",
    "sns.catplot(x=\"Class\", y=\"EmojiCount\", data=df, height=8.27, aspect=11.7/8.27, order=[\"Bot\", \"Non-Bot\"])\n",
    "plt.xlabel('User Type')\n",
    "\n",
    "plt.show();"
   ]
  },
  {
   "cell_type": "markdown",
   "metadata": {},
   "source": [
    "Bots appear to post emojis more frequently than non-bots."
   ]
  },
  {
   "cell_type": "markdown",
   "metadata": {},
   "source": [
    "#### iii. Clean Comment Text"
   ]
  },
  {
   "cell_type": "code",
   "execution_count": 234,
   "metadata": {},
   "outputs": [
    {
     "data": {
      "text/html": [
       "<div>\n",
       "<style scoped>\n",
       "    .dataframe tbody tr th:only-of-type {\n",
       "        vertical-align: middle;\n",
       "    }\n",
       "\n",
       "    .dataframe tbody tr th {\n",
       "        vertical-align: top;\n",
       "    }\n",
       "\n",
       "    .dataframe thead th {\n",
       "        text-align: right;\n",
       "    }\n",
       "</style>\n",
       "<table border=\"1\" class=\"dataframe\">\n",
       "  <thead>\n",
       "    <tr style=\"text-align: right;\">\n",
       "      <th></th>\n",
       "      <th>ID</th>\n",
       "      <th>Author</th>\n",
       "      <th>Comment</th>\n",
       "      <th>Subreddit</th>\n",
       "      <th>Score</th>\n",
       "      <th>Time</th>\n",
       "      <th>Flair</th>\n",
       "      <th>Class</th>\n",
       "      <th>FlairCount</th>\n",
       "      <th>EmojiCount</th>\n",
       "      <th>CommentClean</th>\n",
       "    </tr>\n",
       "  </thead>\n",
       "  <tbody>\n",
       "    <tr>\n",
       "      <th>39384</th>\n",
       "      <td>dgga1g2</td>\n",
       "      <td>janellemonae</td>\n",
       "      <td>❤️</td>\n",
       "      <td>pics</td>\n",
       "      <td>3</td>\n",
       "      <td>2017-04-18 19:49:01</td>\n",
       "      <td>None</td>\n",
       "      <td>Non-Bot</td>\n",
       "      <td>0</td>\n",
       "      <td>1</td>\n",
       "      <td>❤️</td>\n",
       "    </tr>\n",
       "    <tr>\n",
       "      <th>39385</th>\n",
       "      <td>ddur7h1</td>\n",
       "      <td>janellemonae</td>\n",
       "      <td>Trying to get him to get an account so he can ...</td>\n",
       "      <td>hiphopheads</td>\n",
       "      <td>253</td>\n",
       "      <td>2017-02-16 22:22:57</td>\n",
       "      <td>THE QUEEN</td>\n",
       "      <td>Non-Bot</td>\n",
       "      <td>1</td>\n",
       "      <td>0</td>\n",
       "      <td>trying to get him to get an account so he can ...</td>\n",
       "    </tr>\n",
       "  </tbody>\n",
       "</table>\n",
       "</div>"
      ],
      "text/plain": [
       "            ID        Author  \\\n",
       "39384  dgga1g2  janellemonae   \n",
       "39385  ddur7h1  janellemonae   \n",
       "\n",
       "                                                 Comment    Subreddit  Score  \\\n",
       "39384                                                 ❤️         pics      3   \n",
       "39385  Trying to get him to get an account so he can ...  hiphopheads    253   \n",
       "\n",
       "                      Time      Flair    Class  FlairCount  EmojiCount  \\\n",
       "39384  2017-04-18 19:49:01       None  Non-Bot           0           1   \n",
       "39385  2017-02-16 22:22:57  THE QUEEN  Non-Bot           1           0   \n",
       "\n",
       "                                            CommentClean  \n",
       "39384                                                 ❤️  \n",
       "39385  trying to get him to get an account so he can ...  "
      ]
     },
     "execution_count": 234,
     "metadata": {},
     "output_type": "execute_result"
    }
   ],
   "source": [
    "#Replace special characters\n",
    "df['CommentClean'] = df['Comment'].str.replace('[^a-zA-Z]', ' ')\n",
    "df['CommentClean'] = df['Comment'].str.lower()\n",
    "\n",
    "#Visual Check\n",
    "df.tail(2)"
   ]
  },
  {
   "cell_type": "markdown",
   "metadata": {},
   "source": [
    "#### iv. Comment Length"
   ]
  },
  {
   "cell_type": "code",
   "execution_count": 235,
   "metadata": {},
   "outputs": [
    {
     "data": {
      "text/html": [
       "<div>\n",
       "<style scoped>\n",
       "    .dataframe tbody tr th:only-of-type {\n",
       "        vertical-align: middle;\n",
       "    }\n",
       "\n",
       "    .dataframe tbody tr th {\n",
       "        vertical-align: top;\n",
       "    }\n",
       "\n",
       "    .dataframe thead th {\n",
       "        text-align: right;\n",
       "    }\n",
       "</style>\n",
       "<table border=\"1\" class=\"dataframe\">\n",
       "  <thead>\n",
       "    <tr style=\"text-align: right;\">\n",
       "      <th></th>\n",
       "      <th>ID</th>\n",
       "      <th>Author</th>\n",
       "      <th>Comment</th>\n",
       "      <th>Subreddit</th>\n",
       "      <th>Score</th>\n",
       "      <th>Time</th>\n",
       "      <th>Flair</th>\n",
       "      <th>Class</th>\n",
       "      <th>FlairCount</th>\n",
       "      <th>EmojiCount</th>\n",
       "      <th>CommentClean</th>\n",
       "      <th>CommentLength</th>\n",
       "    </tr>\n",
       "  </thead>\n",
       "  <tbody>\n",
       "    <tr>\n",
       "      <th>39384</th>\n",
       "      <td>dgga1g2</td>\n",
       "      <td>janellemonae</td>\n",
       "      <td>❤️</td>\n",
       "      <td>pics</td>\n",
       "      <td>3</td>\n",
       "      <td>2017-04-18 19:49:01</td>\n",
       "      <td>None</td>\n",
       "      <td>Non-Bot</td>\n",
       "      <td>0</td>\n",
       "      <td>1</td>\n",
       "      <td>❤️</td>\n",
       "      <td>1</td>\n",
       "    </tr>\n",
       "    <tr>\n",
       "      <th>39385</th>\n",
       "      <td>ddur7h1</td>\n",
       "      <td>janellemonae</td>\n",
       "      <td>Trying to get him to get an account so he can ...</td>\n",
       "      <td>hiphopheads</td>\n",
       "      <td>253</td>\n",
       "      <td>2017-02-16 22:22:57</td>\n",
       "      <td>THE QUEEN</td>\n",
       "      <td>Non-Bot</td>\n",
       "      <td>1</td>\n",
       "      <td>0</td>\n",
       "      <td>trying to get him to get an account so he can ...</td>\n",
       "      <td>13</td>\n",
       "    </tr>\n",
       "  </tbody>\n",
       "</table>\n",
       "</div>"
      ],
      "text/plain": [
       "            ID        Author  \\\n",
       "39384  dgga1g2  janellemonae   \n",
       "39385  ddur7h1  janellemonae   \n",
       "\n",
       "                                                 Comment    Subreddit  Score  \\\n",
       "39384                                                 ❤️         pics      3   \n",
       "39385  Trying to get him to get an account so he can ...  hiphopheads    253   \n",
       "\n",
       "                      Time      Flair    Class  FlairCount  EmojiCount  \\\n",
       "39384  2017-04-18 19:49:01       None  Non-Bot           0           1   \n",
       "39385  2017-02-16 22:22:57  THE QUEEN  Non-Bot           1           0   \n",
       "\n",
       "                                            CommentClean  CommentLength  \n",
       "39384                                                 ❤️              1  \n",
       "39385  trying to get him to get an account so he can ...             13  "
      ]
     },
     "execution_count": 235,
     "metadata": {},
     "output_type": "execute_result"
    }
   ],
   "source": [
    "df['CommentLength'] = df['CommentClean'].str.split().str.len()\n",
    "df.tail(2)"
   ]
  },
  {
   "cell_type": "code",
   "execution_count": 236,
   "metadata": {},
   "outputs": [
    {
     "data": {
      "text/plain": [
       "count    39386.000000\n",
       "mean        44.587290\n",
       "std        101.257559\n",
       "min          1.000000\n",
       "25%          8.000000\n",
       "50%         19.000000\n",
       "75%         45.000000\n",
       "max       2989.000000\n",
       "Name: CommentLength, dtype: float64"
      ]
     },
     "execution_count": 236,
     "metadata": {},
     "output_type": "execute_result"
    }
   ],
   "source": [
    "df['CommentLength'].describe()"
   ]
  },
  {
   "cell_type": "markdown",
   "metadata": {},
   "source": [
    "#### v. Average Word Length"
   ]
  },
  {
   "cell_type": "code",
   "execution_count": 237,
   "metadata": {},
   "outputs": [
    {
     "data": {
      "text/html": [
       "<div>\n",
       "<style scoped>\n",
       "    .dataframe tbody tr th:only-of-type {\n",
       "        vertical-align: middle;\n",
       "    }\n",
       "\n",
       "    .dataframe tbody tr th {\n",
       "        vertical-align: top;\n",
       "    }\n",
       "\n",
       "    .dataframe thead th {\n",
       "        text-align: right;\n",
       "    }\n",
       "</style>\n",
       "<table border=\"1\" class=\"dataframe\">\n",
       "  <thead>\n",
       "    <tr style=\"text-align: right;\">\n",
       "      <th></th>\n",
       "      <th>ID</th>\n",
       "      <th>Author</th>\n",
       "      <th>Comment</th>\n",
       "      <th>Subreddit</th>\n",
       "      <th>Score</th>\n",
       "      <th>Time</th>\n",
       "      <th>Flair</th>\n",
       "      <th>Class</th>\n",
       "      <th>FlairCount</th>\n",
       "      <th>EmojiCount</th>\n",
       "      <th>CommentClean</th>\n",
       "      <th>CommentLength</th>\n",
       "      <th>CommentCharacters</th>\n",
       "      <th>AvgWordLength</th>\n",
       "    </tr>\n",
       "  </thead>\n",
       "  <tbody>\n",
       "    <tr>\n",
       "      <th>0</th>\n",
       "      <td>e7wig3e</td>\n",
       "      <td>ADHDbot</td>\n",
       "      <td>Just dropping by to show that OP is completely...</td>\n",
       "      <td>unpopularopinion</td>\n",
       "      <td>4</td>\n",
       "      <td>2018-10-16 16:47:28</td>\n",
       "      <td>None</td>\n",
       "      <td>Bot</td>\n",
       "      <td>0</td>\n",
       "      <td>0</td>\n",
       "      <td>just dropping by to show that op is completely...</td>\n",
       "      <td>21</td>\n",
       "      <td>335</td>\n",
       "      <td>15.95</td>\n",
       "    </tr>\n",
       "    <tr>\n",
       "      <th>1</th>\n",
       "      <td>cww687m</td>\n",
       "      <td>ADHDbot</td>\n",
       "      <td>As per the rules in the side bar, yes or no qu...</td>\n",
       "      <td>ADHD</td>\n",
       "      <td>1</td>\n",
       "      <td>2015-11-10 20:03:58</td>\n",
       "      <td>None</td>\n",
       "      <td>Bot</td>\n",
       "      <td>0</td>\n",
       "      <td>0</td>\n",
       "      <td>as per the rules in the side bar, yes or no qu...</td>\n",
       "      <td>105</td>\n",
       "      <td>823</td>\n",
       "      <td>7.84</td>\n",
       "    </tr>\n",
       "  </tbody>\n",
       "</table>\n",
       "</div>"
      ],
      "text/plain": [
       "        ID   Author                                            Comment  \\\n",
       "0  e7wig3e  ADHDbot  Just dropping by to show that OP is completely...   \n",
       "1  cww687m  ADHDbot  As per the rules in the side bar, yes or no qu...   \n",
       "\n",
       "          Subreddit  Score                 Time Flair Class  FlairCount  \\\n",
       "0  unpopularopinion      4  2018-10-16 16:47:28  None   Bot           0   \n",
       "1              ADHD      1  2015-11-10 20:03:58  None   Bot           0   \n",
       "\n",
       "   EmojiCount                                       CommentClean  \\\n",
       "0           0  just dropping by to show that op is completely...   \n",
       "1           0  as per the rules in the side bar, yes or no qu...   \n",
       "\n",
       "   CommentLength  CommentCharacters  AvgWordLength  \n",
       "0             21                335          15.95  \n",
       "1            105                823           7.84  "
      ]
     },
     "execution_count": 237,
     "metadata": {},
     "output_type": "execute_result"
    }
   ],
   "source": [
    "df['CommentCharacters'] = df['CommentClean'].str.len()\n",
    "df['AvgWordLength'] = (df['CommentCharacters'] / df['CommentLength']).round(2)\n",
    "df.head(2)"
   ]
  },
  {
   "cell_type": "code",
   "execution_count": 238,
   "metadata": {},
   "outputs": [
    {
     "data": {
      "text/plain": [
       "count    39386.000000\n",
       "mean        11.483930\n",
       "std         11.533438\n",
       "min          1.000000\n",
       "25%          5.570000\n",
       "50%          7.620000\n",
       "75%         13.000000\n",
       "max        444.000000\n",
       "Name: AvgWordLength, dtype: float64"
      ]
     },
     "execution_count": 238,
     "metadata": {},
     "output_type": "execute_result"
    }
   ],
   "source": [
    "df['AvgWordLength'].describe()"
   ]
  },
  {
   "cell_type": "code",
   "execution_count": 239,
   "metadata": {},
   "outputs": [
    {
     "data": {
      "text/plain": [
       "0"
      ]
     },
     "execution_count": 239,
     "metadata": {},
     "output_type": "execute_result"
    }
   ],
   "source": [
    "#Check for Null Values\n",
    "df['AvgWordLength'].isnull().sum()"
   ]
  },
  {
   "cell_type": "code",
   "execution_count": 240,
   "metadata": {},
   "outputs": [],
   "source": [
    "#Convert infinite to NaN\n",
    "df['AvgWordLength'].replace(-np.inf, np.nan, inplace=True)"
   ]
  },
  {
   "cell_type": "code",
   "execution_count": 241,
   "metadata": {},
   "outputs": [],
   "source": [
    "#Replace NaN with Median\n",
    "df['AvgWordLength'].fillna(df['AvgWordLength'].median(), inplace=True)"
   ]
  },
  {
   "cell_type": "code",
   "execution_count": 242,
   "metadata": {},
   "outputs": [
    {
     "data": {
      "text/plain": [
       "count    39386.000000\n",
       "mean        11.483930\n",
       "std         11.533438\n",
       "min          1.000000\n",
       "25%          5.570000\n",
       "50%          7.620000\n",
       "75%         13.000000\n",
       "max        444.000000\n",
       "Name: AvgWordLength, dtype: float64"
      ]
     },
     "execution_count": 242,
     "metadata": {},
     "output_type": "execute_result"
    }
   ],
   "source": [
    "df['AvgWordLength'].describe()"
   ]
  },
  {
   "cell_type": "markdown",
   "metadata": {},
   "source": [
    "#### vi. Lexicon Count\n",
    "\n",
    "Calculates the number of words present in the text. "
   ]
  },
  {
   "cell_type": "code",
   "execution_count": 243,
   "metadata": {},
   "outputs": [
    {
     "data": {
      "text/html": [
       "<div>\n",
       "<style scoped>\n",
       "    .dataframe tbody tr th:only-of-type {\n",
       "        vertical-align: middle;\n",
       "    }\n",
       "\n",
       "    .dataframe tbody tr th {\n",
       "        vertical-align: top;\n",
       "    }\n",
       "\n",
       "    .dataframe thead th {\n",
       "        text-align: right;\n",
       "    }\n",
       "</style>\n",
       "<table border=\"1\" class=\"dataframe\">\n",
       "  <thead>\n",
       "    <tr style=\"text-align: right;\">\n",
       "      <th></th>\n",
       "      <th>ID</th>\n",
       "      <th>Author</th>\n",
       "      <th>Comment</th>\n",
       "      <th>Subreddit</th>\n",
       "      <th>Score</th>\n",
       "      <th>Time</th>\n",
       "      <th>Flair</th>\n",
       "      <th>Class</th>\n",
       "      <th>FlairCount</th>\n",
       "      <th>EmojiCount</th>\n",
       "      <th>CommentClean</th>\n",
       "      <th>CommentLength</th>\n",
       "      <th>CommentCharacters</th>\n",
       "      <th>AvgWordLength</th>\n",
       "      <th>LexCount</th>\n",
       "    </tr>\n",
       "  </thead>\n",
       "  <tbody>\n",
       "    <tr>\n",
       "      <th>0</th>\n",
       "      <td>e7wig3e</td>\n",
       "      <td>ADHDbot</td>\n",
       "      <td>Just dropping by to show that OP is completely...</td>\n",
       "      <td>unpopularopinion</td>\n",
       "      <td>4</td>\n",
       "      <td>2018-10-16 16:47:28</td>\n",
       "      <td>None</td>\n",
       "      <td>Bot</td>\n",
       "      <td>0</td>\n",
       "      <td>0</td>\n",
       "      <td>just dropping by to show that op is completely...</td>\n",
       "      <td>21</td>\n",
       "      <td>335</td>\n",
       "      <td>15.95</td>\n",
       "      <td>21</td>\n",
       "    </tr>\n",
       "  </tbody>\n",
       "</table>\n",
       "</div>"
      ],
      "text/plain": [
       "        ID   Author                                            Comment  \\\n",
       "0  e7wig3e  ADHDbot  Just dropping by to show that OP is completely...   \n",
       "\n",
       "          Subreddit  Score                 Time Flair Class  FlairCount  \\\n",
       "0  unpopularopinion      4  2018-10-16 16:47:28  None   Bot           0   \n",
       "\n",
       "   EmojiCount                                       CommentClean  \\\n",
       "0           0  just dropping by to show that op is completely...   \n",
       "\n",
       "   CommentLength  CommentCharacters  AvgWordLength  LexCount  \n",
       "0             21                335          15.95        21  "
      ]
     },
     "execution_count": 243,
     "metadata": {},
     "output_type": "execute_result"
    }
   ],
   "source": [
    "df[\"LexCount\"] = df['CommentClean'].apply(textstat.lexicon_count)\n",
    "\n",
    "df.head(1)"
   ]
  },
  {
   "cell_type": "code",
   "execution_count": 244,
   "metadata": {},
   "outputs": [
    {
     "data": {
      "text/plain": [
       "count    39386.000000\n",
       "mean        42.875311\n",
       "std         97.109138\n",
       "min          0.000000\n",
       "25%          8.000000\n",
       "50%         19.000000\n",
       "75%         44.000000\n",
       "max       2987.000000\n",
       "Name: LexCount, dtype: float64"
      ]
     },
     "execution_count": 244,
     "metadata": {},
     "output_type": "execute_result"
    }
   ],
   "source": [
    "df[\"LexCount\"].describe()"
   ]
  },
  {
   "cell_type": "markdown",
   "metadata": {},
   "source": [
    "#### vii. Sentence Count"
   ]
  },
  {
   "cell_type": "code",
   "execution_count": 245,
   "metadata": {},
   "outputs": [
    {
     "data": {
      "text/html": [
       "<div>\n",
       "<style scoped>\n",
       "    .dataframe tbody tr th:only-of-type {\n",
       "        vertical-align: middle;\n",
       "    }\n",
       "\n",
       "    .dataframe tbody tr th {\n",
       "        vertical-align: top;\n",
       "    }\n",
       "\n",
       "    .dataframe thead th {\n",
       "        text-align: right;\n",
       "    }\n",
       "</style>\n",
       "<table border=\"1\" class=\"dataframe\">\n",
       "  <thead>\n",
       "    <tr style=\"text-align: right;\">\n",
       "      <th></th>\n",
       "      <th>ID</th>\n",
       "      <th>Author</th>\n",
       "      <th>Comment</th>\n",
       "      <th>Subreddit</th>\n",
       "      <th>Score</th>\n",
       "      <th>Time</th>\n",
       "      <th>Flair</th>\n",
       "      <th>Class</th>\n",
       "      <th>FlairCount</th>\n",
       "      <th>EmojiCount</th>\n",
       "      <th>CommentClean</th>\n",
       "      <th>CommentLength</th>\n",
       "      <th>CommentCharacters</th>\n",
       "      <th>AvgWordLength</th>\n",
       "      <th>LexCount</th>\n",
       "      <th>SentenceCount</th>\n",
       "    </tr>\n",
       "  </thead>\n",
       "  <tbody>\n",
       "    <tr>\n",
       "      <th>39384</th>\n",
       "      <td>dgga1g2</td>\n",
       "      <td>janellemonae</td>\n",
       "      <td>❤️</td>\n",
       "      <td>pics</td>\n",
       "      <td>3</td>\n",
       "      <td>2017-04-18 19:49:01</td>\n",
       "      <td>None</td>\n",
       "      <td>Non-Bot</td>\n",
       "      <td>0</td>\n",
       "      <td>1</td>\n",
       "      <td>❤️</td>\n",
       "      <td>1</td>\n",
       "      <td>2</td>\n",
       "      <td>2.00</td>\n",
       "      <td>1</td>\n",
       "      <td>1</td>\n",
       "    </tr>\n",
       "    <tr>\n",
       "      <th>39385</th>\n",
       "      <td>ddur7h1</td>\n",
       "      <td>janellemonae</td>\n",
       "      <td>Trying to get him to get an account so he can ...</td>\n",
       "      <td>hiphopheads</td>\n",
       "      <td>253</td>\n",
       "      <td>2017-02-16 22:22:57</td>\n",
       "      <td>THE QUEEN</td>\n",
       "      <td>Non-Bot</td>\n",
       "      <td>1</td>\n",
       "      <td>0</td>\n",
       "      <td>trying to get him to get an account so he can ...</td>\n",
       "      <td>13</td>\n",
       "      <td>62</td>\n",
       "      <td>4.77</td>\n",
       "      <td>13</td>\n",
       "      <td>1</td>\n",
       "    </tr>\n",
       "  </tbody>\n",
       "</table>\n",
       "</div>"
      ],
      "text/plain": [
       "            ID        Author  \\\n",
       "39384  dgga1g2  janellemonae   \n",
       "39385  ddur7h1  janellemonae   \n",
       "\n",
       "                                                 Comment    Subreddit  Score  \\\n",
       "39384                                                 ❤️         pics      3   \n",
       "39385  Trying to get him to get an account so he can ...  hiphopheads    253   \n",
       "\n",
       "                      Time      Flair    Class  FlairCount  EmojiCount  \\\n",
       "39384  2017-04-18 19:49:01       None  Non-Bot           0           1   \n",
       "39385  2017-02-16 22:22:57  THE QUEEN  Non-Bot           1           0   \n",
       "\n",
       "                                            CommentClean  CommentLength  \\\n",
       "39384                                                 ❤️              1   \n",
       "39385  trying to get him to get an account so he can ...             13   \n",
       "\n",
       "       CommentCharacters  AvgWordLength  LexCount  SentenceCount  \n",
       "39384                  2           2.00         1              1  \n",
       "39385                 62           4.77        13              1  "
      ]
     },
     "execution_count": 245,
     "metadata": {},
     "output_type": "execute_result"
    }
   ],
   "source": [
    "df[\"SentenceCount\"] = df['Comment'].apply(textstat.sentence_count)\n",
    "df.tail(2)"
   ]
  },
  {
   "cell_type": "markdown",
   "metadata": {},
   "source": [
    "#### viii. Readability"
   ]
  },
  {
   "cell_type": "code",
   "execution_count": 246,
   "metadata": {},
   "outputs": [
    {
     "data": {
      "text/html": [
       "<div>\n",
       "<style scoped>\n",
       "    .dataframe tbody tr th:only-of-type {\n",
       "        vertical-align: middle;\n",
       "    }\n",
       "\n",
       "    .dataframe tbody tr th {\n",
       "        vertical-align: top;\n",
       "    }\n",
       "\n",
       "    .dataframe thead th {\n",
       "        text-align: right;\n",
       "    }\n",
       "</style>\n",
       "<table border=\"1\" class=\"dataframe\">\n",
       "  <thead>\n",
       "    <tr style=\"text-align: right;\">\n",
       "      <th></th>\n",
       "      <th>ID</th>\n",
       "      <th>Author</th>\n",
       "      <th>Comment</th>\n",
       "      <th>Subreddit</th>\n",
       "      <th>Score</th>\n",
       "      <th>Time</th>\n",
       "      <th>Flair</th>\n",
       "      <th>Class</th>\n",
       "      <th>FlairCount</th>\n",
       "      <th>EmojiCount</th>\n",
       "      <th>CommentClean</th>\n",
       "      <th>CommentLength</th>\n",
       "      <th>CommentCharacters</th>\n",
       "      <th>AvgWordLength</th>\n",
       "      <th>LexCount</th>\n",
       "      <th>SentenceCount</th>\n",
       "      <th>ReadEase</th>\n",
       "    </tr>\n",
       "  </thead>\n",
       "  <tbody>\n",
       "    <tr>\n",
       "      <th>0</th>\n",
       "      <td>e7wig3e</td>\n",
       "      <td>ADHDbot</td>\n",
       "      <td>Just dropping by to show that OP is completely...</td>\n",
       "      <td>unpopularopinion</td>\n",
       "      <td>4</td>\n",
       "      <td>2018-10-16 16:47:28</td>\n",
       "      <td>None</td>\n",
       "      <td>Bot</td>\n",
       "      <td>0</td>\n",
       "      <td>0</td>\n",
       "      <td>just dropping by to show that op is completely...</td>\n",
       "      <td>21</td>\n",
       "      <td>335</td>\n",
       "      <td>15.95</td>\n",
       "      <td>21</td>\n",
       "      <td>1</td>\n",
       "      <td>-59.83</td>\n",
       "    </tr>\n",
       "  </tbody>\n",
       "</table>\n",
       "</div>"
      ],
      "text/plain": [
       "        ID   Author                                            Comment  \\\n",
       "0  e7wig3e  ADHDbot  Just dropping by to show that OP is completely...   \n",
       "\n",
       "          Subreddit  Score                 Time Flair Class  FlairCount  \\\n",
       "0  unpopularopinion      4  2018-10-16 16:47:28  None   Bot           0   \n",
       "\n",
       "   EmojiCount                                       CommentClean  \\\n",
       "0           0  just dropping by to show that op is completely...   \n",
       "\n",
       "   CommentLength  CommentCharacters  AvgWordLength  LexCount  SentenceCount  \\\n",
       "0             21                335          15.95        21              1   \n",
       "\n",
       "   ReadEase  \n",
       "0    -59.83  "
      ]
     },
     "execution_count": 246,
     "metadata": {},
     "output_type": "execute_result"
    }
   ],
   "source": [
    "df[\"ReadEase\"] = df['CommentClean'].apply(textstat.flesch_reading_ease)\n",
    "\n",
    "df.head(1)"
   ]
  },
  {
   "cell_type": "code",
   "execution_count": 247,
   "metadata": {},
   "outputs": [
    {
     "data": {
      "text/plain": [
       "count    39386.000000\n",
       "mean       -38.355350\n",
       "std        202.666966\n",
       "min      -5377.790000\n",
       "25%        -68.960000\n",
       "50%         13.280000\n",
       "75%         68.770000\n",
       "max        206.840000\n",
       "Name: ReadEase, dtype: float64"
      ]
     },
     "execution_count": 247,
     "metadata": {},
     "output_type": "execute_result"
    }
   ],
   "source": [
    "df[\"ReadEase\"].describe()"
   ]
  },
  {
   "cell_type": "markdown",
   "metadata": {},
   "source": [
    "#### ix. Syllable Count"
   ]
  },
  {
   "cell_type": "code",
   "execution_count": 248,
   "metadata": {},
   "outputs": [
    {
     "data": {
      "text/plain": [
       "count    39386.000000\n",
       "mean        83.602067\n",
       "std        173.207563\n",
       "min          0.000000\n",
       "25%         15.000000\n",
       "50%         39.000000\n",
       "75%         84.000000\n",
       "max       4368.000000\n",
       "Name: SyllableCount, dtype: float64"
      ]
     },
     "execution_count": 248,
     "metadata": {},
     "output_type": "execute_result"
    }
   ],
   "source": [
    "df[\"SyllableCount\"] = df['CommentClean'].apply(textstat.syllable_count)\n",
    "df[\"SyllableCount\"].describe()"
   ]
  },
  {
   "cell_type": "code",
   "execution_count": 249,
   "metadata": {},
   "outputs": [
    {
     "data": {
      "text/plain": [
       "ID                   0\n",
       "Author               0\n",
       "Comment              0\n",
       "Subreddit            0\n",
       "Score                0\n",
       "Time                 0\n",
       "Flair                0\n",
       "Class                0\n",
       "FlairCount           0\n",
       "EmojiCount           0\n",
       "CommentClean         0\n",
       "CommentLength        0\n",
       "CommentCharacters    0\n",
       "AvgWordLength        0\n",
       "LexCount             0\n",
       "SentenceCount        0\n",
       "ReadEase             0\n",
       "SyllableCount        0\n",
       "dtype: int64"
      ]
     },
     "execution_count": 249,
     "metadata": {},
     "output_type": "execute_result"
    }
   ],
   "source": [
    "#Check for Null Values\n",
    "df.isnull().sum()"
   ]
  },
  {
   "cell_type": "markdown",
   "metadata": {},
   "source": [
    "### <a id='PP'>B. Pre-Processing and Scaling</a>"
   ]
  },
  {
   "cell_type": "markdown",
   "metadata": {},
   "source": [
    "#### i. Create Dummy Variables"
   ]
  },
  {
   "cell_type": "markdown",
   "metadata": {},
   "source": [
    "Creating dummy variables for: Class (Bot/Non-Bot)"
   ]
  },
  {
   "cell_type": "code",
   "execution_count": 250,
   "metadata": {},
   "outputs": [],
   "source": [
    "#Create Dummies for Class\n",
    "classDummies = pd.get_dummies(df.Class)"
   ]
  },
  {
   "cell_type": "code",
   "execution_count": 251,
   "metadata": {},
   "outputs": [
    {
     "data": {
      "text/html": [
       "<div>\n",
       "<style scoped>\n",
       "    .dataframe tbody tr th:only-of-type {\n",
       "        vertical-align: middle;\n",
       "    }\n",
       "\n",
       "    .dataframe tbody tr th {\n",
       "        vertical-align: top;\n",
       "    }\n",
       "\n",
       "    .dataframe thead th {\n",
       "        text-align: right;\n",
       "    }\n",
       "</style>\n",
       "<table border=\"1\" class=\"dataframe\">\n",
       "  <thead>\n",
       "    <tr style=\"text-align: right;\">\n",
       "      <th></th>\n",
       "      <th>ID</th>\n",
       "      <th>Author</th>\n",
       "      <th>Comment</th>\n",
       "      <th>Subreddit</th>\n",
       "      <th>Score</th>\n",
       "      <th>Time</th>\n",
       "      <th>Flair</th>\n",
       "      <th>Class</th>\n",
       "      <th>FlairCount</th>\n",
       "      <th>EmojiCount</th>\n",
       "      <th>CommentClean</th>\n",
       "      <th>CommentLength</th>\n",
       "      <th>CommentCharacters</th>\n",
       "      <th>AvgWordLength</th>\n",
       "      <th>LexCount</th>\n",
       "      <th>SentenceCount</th>\n",
       "      <th>ReadEase</th>\n",
       "      <th>SyllableCount</th>\n",
       "      <th>Bot</th>\n",
       "      <th>Non-Bot</th>\n",
       "    </tr>\n",
       "  </thead>\n",
       "  <tbody>\n",
       "    <tr>\n",
       "      <th>0</th>\n",
       "      <td>e7wig3e</td>\n",
       "      <td>ADHDbot</td>\n",
       "      <td>Just dropping by to show that OP is completely...</td>\n",
       "      <td>unpopularopinion</td>\n",
       "      <td>4</td>\n",
       "      <td>2018-10-16 16:47:28</td>\n",
       "      <td>None</td>\n",
       "      <td>Bot</td>\n",
       "      <td>0</td>\n",
       "      <td>0</td>\n",
       "      <td>just dropping by to show that op is completely...</td>\n",
       "      <td>21</td>\n",
       "      <td>335</td>\n",
       "      <td>15.95</td>\n",
       "      <td>21</td>\n",
       "      <td>1</td>\n",
       "      <td>-59.83</td>\n",
       "      <td>61</td>\n",
       "      <td>1</td>\n",
       "      <td>0</td>\n",
       "    </tr>\n",
       "    <tr>\n",
       "      <th>1</th>\n",
       "      <td>cww687m</td>\n",
       "      <td>ADHDbot</td>\n",
       "      <td>As per the rules in the side bar, yes or no qu...</td>\n",
       "      <td>ADHD</td>\n",
       "      <td>1</td>\n",
       "      <td>2015-11-10 20:03:58</td>\n",
       "      <td>None</td>\n",
       "      <td>Bot</td>\n",
       "      <td>0</td>\n",
       "      <td>0</td>\n",
       "      <td>as per the rules in the side bar, yes or no qu...</td>\n",
       "      <td>105</td>\n",
       "      <td>823</td>\n",
       "      <td>7.84</td>\n",
       "      <td>105</td>\n",
       "      <td>2</td>\n",
       "      <td>-52.03</td>\n",
       "      <td>191</td>\n",
       "      <td>1</td>\n",
       "      <td>0</td>\n",
       "    </tr>\n",
       "  </tbody>\n",
       "</table>\n",
       "</div>"
      ],
      "text/plain": [
       "        ID   Author                                            Comment  \\\n",
       "0  e7wig3e  ADHDbot  Just dropping by to show that OP is completely...   \n",
       "1  cww687m  ADHDbot  As per the rules in the side bar, yes or no qu...   \n",
       "\n",
       "          Subreddit  Score                 Time Flair Class  FlairCount  \\\n",
       "0  unpopularopinion      4  2018-10-16 16:47:28  None   Bot           0   \n",
       "1              ADHD      1  2015-11-10 20:03:58  None   Bot           0   \n",
       "\n",
       "   EmojiCount                                       CommentClean  \\\n",
       "0           0  just dropping by to show that op is completely...   \n",
       "1           0  as per the rules in the side bar, yes or no qu...   \n",
       "\n",
       "   CommentLength  CommentCharacters  AvgWordLength  LexCount  SentenceCount  \\\n",
       "0             21                335          15.95        21              1   \n",
       "1            105                823           7.84       105              2   \n",
       "\n",
       "   ReadEase  SyllableCount  Bot  Non-Bot  \n",
       "0    -59.83             61    1        0  \n",
       "1    -52.03            191    1        0  "
      ]
     },
     "execution_count": 251,
     "metadata": {},
     "output_type": "execute_result"
    }
   ],
   "source": [
    "#Join Dummies\n",
    "df2 = pd.concat([df, classDummies], axis=1)\n",
    "\n",
    "#Visual Check\n",
    "df2.head(2)"
   ]
  },
  {
   "cell_type": "code",
   "execution_count": 252,
   "metadata": {},
   "outputs": [
    {
     "data": {
      "text/plain": [
       "(39386, 20)"
      ]
     },
     "execution_count": 252,
     "metadata": {},
     "output_type": "execute_result"
    }
   ],
   "source": [
    "df2.shape"
   ]
  },
  {
   "cell_type": "markdown",
   "metadata": {},
   "source": [
    "#### ii. Drop Values to include equal number of Bots and Non-Bots in data set"
   ]
  },
  {
   "cell_type": "code",
   "execution_count": 253,
   "metadata": {},
   "outputs": [
    {
     "data": {
      "text/plain": [
       "28962"
      ]
     },
     "execution_count": 253,
     "metadata": {},
     "output_type": "execute_result"
    }
   ],
   "source": [
    "(df2['Class'] == 'Bot').sum()"
   ]
  },
  {
   "cell_type": "code",
   "execution_count": 254,
   "metadata": {},
   "outputs": [
    {
     "data": {
      "text/plain": [
       "10424"
      ]
     },
     "execution_count": 254,
     "metadata": {},
     "output_type": "execute_result"
    }
   ],
   "source": [
    "(df2['Class'] == 'Non-Bot').sum()"
   ]
  },
  {
   "cell_type": "markdown",
   "metadata": {},
   "source": [
    "> I want an equal number of bots and non-bots, so I will remove 19,333 Bot rows from the data set"
   ]
  },
  {
   "cell_type": "code",
   "execution_count": 255,
   "metadata": {},
   "outputs": [],
   "source": [
    "N = 18682\n",
    "df3 = df2.drop(df2[df2['Class'] == 'Bot'].sample(N).index)"
   ]
  },
  {
   "cell_type": "code",
   "execution_count": 256,
   "metadata": {},
   "outputs": [
    {
     "data": {
      "text/plain": [
       "10280"
      ]
     },
     "execution_count": 256,
     "metadata": {},
     "output_type": "execute_result"
    }
   ],
   "source": [
    "(df3['Class'] == 'Bot').sum()"
   ]
  },
  {
   "cell_type": "code",
   "execution_count": 257,
   "metadata": {},
   "outputs": [
    {
     "data": {
      "text/plain": [
       "10424"
      ]
     },
     "execution_count": 257,
     "metadata": {},
     "output_type": "execute_result"
    }
   ],
   "source": [
    "(df3['Class'] == 'Non-Bot').sum()"
   ]
  },
  {
   "cell_type": "code",
   "execution_count": 258,
   "metadata": {},
   "outputs": [
    {
     "data": {
      "text/plain": [
       "ID                   0\n",
       "Author               0\n",
       "Comment              0\n",
       "Subreddit            0\n",
       "Score                0\n",
       "Time                 0\n",
       "Flair                0\n",
       "Class                0\n",
       "FlairCount           0\n",
       "EmojiCount           0\n",
       "CommentClean         0\n",
       "CommentLength        0\n",
       "CommentCharacters    0\n",
       "AvgWordLength        0\n",
       "LexCount             0\n",
       "SentenceCount        0\n",
       "ReadEase             0\n",
       "SyllableCount        0\n",
       "Bot                  0\n",
       "Non-Bot              0\n",
       "dtype: int64"
      ]
     },
     "execution_count": 258,
     "metadata": {},
     "output_type": "execute_result"
    }
   ],
   "source": [
    "df3.isna().sum()"
   ]
  },
  {
   "cell_type": "markdown",
   "metadata": {},
   "source": [
    "#### iii. Split Features into Train and Test"
   ]
  },
  {
   "cell_type": "code",
   "execution_count": 259,
   "metadata": {},
   "outputs": [
    {
     "name": "stdout",
     "output_type": "stream",
     "text": [
      "['ID', 'Author', 'Comment', 'Subreddit', 'Score', 'Time', 'Flair', 'Class', 'FlairCount', 'EmojiCount', 'CommentClean', 'CommentLength', 'CommentCharacters', 'AvgWordLength', 'LexCount', 'SentenceCount', 'ReadEase', 'SyllableCount']\n"
     ]
    }
   ],
   "source": [
    "features = []\n",
    "\n",
    "for column in df3.columns:\n",
    "    if column != 'Bot' and column != 'Non-Bot':\n",
    "        features.append(column)\n",
    "print(features)"
   ]
  },
  {
   "cell_type": "code",
   "execution_count": 260,
   "metadata": {},
   "outputs": [
    {
     "data": {
      "text/plain": [
       "18"
      ]
     },
     "execution_count": 260,
     "metadata": {},
     "output_type": "execute_result"
    }
   ],
   "source": [
    "len(features)"
   ]
  },
  {
   "cell_type": "code",
   "execution_count": 261,
   "metadata": {},
   "outputs": [],
   "source": [
    "X = df3[features]\n",
    "y = df3['Bot']"
   ]
  },
  {
   "cell_type": "code",
   "execution_count": 262,
   "metadata": {},
   "outputs": [],
   "source": [
    "#Split Features into Train and Test\n",
    "X_train, X_test, y_train, y_test = train_test_split(X, y, test_size = 0.2, random_state = 42)"
   ]
  },
  {
   "cell_type": "code",
   "execution_count": 263,
   "metadata": {},
   "outputs": [
    {
     "data": {
      "text/plain": [
       "(16563, 18)"
      ]
     },
     "execution_count": 263,
     "metadata": {},
     "output_type": "execute_result"
    }
   ],
   "source": [
    "X_train.shape"
   ]
  },
  {
   "cell_type": "code",
   "execution_count": 264,
   "metadata": {},
   "outputs": [
    {
     "data": {
      "text/html": [
       "<div>\n",
       "<style scoped>\n",
       "    .dataframe tbody tr th:only-of-type {\n",
       "        vertical-align: middle;\n",
       "    }\n",
       "\n",
       "    .dataframe tbody tr th {\n",
       "        vertical-align: top;\n",
       "    }\n",
       "\n",
       "    .dataframe thead th {\n",
       "        text-align: right;\n",
       "    }\n",
       "</style>\n",
       "<table border=\"1\" class=\"dataframe\">\n",
       "  <thead>\n",
       "    <tr style=\"text-align: right;\">\n",
       "      <th></th>\n",
       "      <th>ID</th>\n",
       "      <th>Author</th>\n",
       "      <th>Comment</th>\n",
       "      <th>Subreddit</th>\n",
       "      <th>Score</th>\n",
       "      <th>Time</th>\n",
       "      <th>Flair</th>\n",
       "      <th>Class</th>\n",
       "      <th>FlairCount</th>\n",
       "      <th>EmojiCount</th>\n",
       "      <th>CommentClean</th>\n",
       "      <th>CommentLength</th>\n",
       "      <th>CommentCharacters</th>\n",
       "      <th>AvgWordLength</th>\n",
       "      <th>LexCount</th>\n",
       "      <th>SentenceCount</th>\n",
       "      <th>ReadEase</th>\n",
       "      <th>SyllableCount</th>\n",
       "    </tr>\n",
       "  </thead>\n",
       "  <tbody>\n",
       "    <tr>\n",
       "      <th>0</th>\n",
       "      <td>gaa5btn</td>\n",
       "      <td>andrewsmith1986</td>\n",
       "      <td>I actually am not a huge fan of either of thei...</td>\n",
       "      <td>pics</td>\n",
       "      <td>1</td>\n",
       "      <td>2020-10-27 08:38:34</td>\n",
       "      <td>None</td>\n",
       "      <td>Non-Bot</td>\n",
       "      <td>0</td>\n",
       "      <td>0</td>\n",
       "      <td>i actually am not a huge fan of either of thei...</td>\n",
       "      <td>25</td>\n",
       "      <td>116</td>\n",
       "      <td>4.64</td>\n",
       "      <td>25</td>\n",
       "      <td>1</td>\n",
       "      <td>71.48</td>\n",
       "      <td>32</td>\n",
       "    </tr>\n",
       "    <tr>\n",
       "      <th>1</th>\n",
       "      <td>g928ygw</td>\n",
       "      <td>GovSchwarzenegger</td>\n",
       "      <td>Thank you for voting! Come back here and tell ...</td>\n",
       "      <td>ColumbusGA</td>\n",
       "      <td>1</td>\n",
       "      <td>2020-10-16 18:25:09</td>\n",
       "      <td>None</td>\n",
       "      <td>Non-Bot</td>\n",
       "      <td>0</td>\n",
       "      <td>0</td>\n",
       "      <td>thank you for voting! come back here and tell ...</td>\n",
       "      <td>13</td>\n",
       "      <td>61</td>\n",
       "      <td>4.69</td>\n",
       "      <td>13</td>\n",
       "      <td>2</td>\n",
       "      <td>100.58</td>\n",
       "      <td>14</td>\n",
       "    </tr>\n",
       "    <tr>\n",
       "      <th>2</th>\n",
       "      <td>ceqtp4u</td>\n",
       "      <td>snapshot_bot</td>\n",
       "      <td>The following URLs have been snapshotted:\\n\\n*...</td>\n",
       "      <td>new_eden_news_bot</td>\n",
       "      <td>1</td>\n",
       "      <td>2014-01-15 21:25:01</td>\n",
       "      <td>None</td>\n",
       "      <td>Bot</td>\n",
       "      <td>0</td>\n",
       "      <td>0</td>\n",
       "      <td>the following urls have been snapshotted:\\n\\n*...</td>\n",
       "      <td>19</td>\n",
       "      <td>302</td>\n",
       "      <td>15.89</td>\n",
       "      <td>16</td>\n",
       "      <td>1</td>\n",
       "      <td>-54.75</td>\n",
       "      <td>46</td>\n",
       "    </tr>\n",
       "    <tr>\n",
       "      <th>3</th>\n",
       "      <td>cdoceot</td>\n",
       "      <td>Chemistry_Bot</td>\n",
       "      <td>How about some more info on trisulfane:\\n\\nThe...</td>\n",
       "      <td>test</td>\n",
       "      <td>1</td>\n",
       "      <td>2013-11-27 10:56:18</td>\n",
       "      <td>None</td>\n",
       "      <td>Bot</td>\n",
       "      <td>0</td>\n",
       "      <td>0</td>\n",
       "      <td>how about some more info on trisulfane:\\n\\nthe...</td>\n",
       "      <td>38</td>\n",
       "      <td>275</td>\n",
       "      <td>7.24</td>\n",
       "      <td>36</td>\n",
       "      <td>2</td>\n",
       "      <td>26.48</td>\n",
       "      <td>60</td>\n",
       "    </tr>\n",
       "    <tr>\n",
       "      <th>4</th>\n",
       "      <td>cfkv060</td>\n",
       "      <td>randnumbot</td>\n",
       "      <td>Random integer between 1 and 55 is 30.</td>\n",
       "      <td>reddcoinlotto</td>\n",
       "      <td>2</td>\n",
       "      <td>2014-02-20 23:17:50</td>\n",
       "      <td>None</td>\n",
       "      <td>Bot</td>\n",
       "      <td>0</td>\n",
       "      <td>0</td>\n",
       "      <td>random integer between 1 and 55 is 30.</td>\n",
       "      <td>8</td>\n",
       "      <td>38</td>\n",
       "      <td>4.75</td>\n",
       "      <td>8</td>\n",
       "      <td>1</td>\n",
       "      <td>71.82</td>\n",
       "      <td>12</td>\n",
       "    </tr>\n",
       "  </tbody>\n",
       "</table>\n",
       "</div>"
      ],
      "text/plain": [
       "        ID             Author  \\\n",
       "0  gaa5btn    andrewsmith1986   \n",
       "1  g928ygw  GovSchwarzenegger   \n",
       "2  ceqtp4u       snapshot_bot   \n",
       "3  cdoceot      Chemistry_Bot   \n",
       "4  cfkv060         randnumbot   \n",
       "\n",
       "                                             Comment          Subreddit  \\\n",
       "0  I actually am not a huge fan of either of thei...               pics   \n",
       "1  Thank you for voting! Come back here and tell ...         ColumbusGA   \n",
       "2  The following URLs have been snapshotted:\\n\\n*...  new_eden_news_bot   \n",
       "3  How about some more info on trisulfane:\\n\\nThe...               test   \n",
       "4             Random integer between 1 and 55 is 30.      reddcoinlotto   \n",
       "\n",
       "   Score                 Time Flair    Class  FlairCount  EmojiCount  \\\n",
       "0      1  2020-10-27 08:38:34  None  Non-Bot           0           0   \n",
       "1      1  2020-10-16 18:25:09  None  Non-Bot           0           0   \n",
       "2      1  2014-01-15 21:25:01  None      Bot           0           0   \n",
       "3      1  2013-11-27 10:56:18  None      Bot           0           0   \n",
       "4      2  2014-02-20 23:17:50  None      Bot           0           0   \n",
       "\n",
       "                                        CommentClean  CommentLength  \\\n",
       "0  i actually am not a huge fan of either of thei...             25   \n",
       "1  thank you for voting! come back here and tell ...             13   \n",
       "2  the following urls have been snapshotted:\\n\\n*...             19   \n",
       "3  how about some more info on trisulfane:\\n\\nthe...             38   \n",
       "4             random integer between 1 and 55 is 30.              8   \n",
       "\n",
       "   CommentCharacters  AvgWordLength  LexCount  SentenceCount  ReadEase  \\\n",
       "0                116           4.64        25              1     71.48   \n",
       "1                 61           4.69        13              2    100.58   \n",
       "2                302          15.89        16              1    -54.75   \n",
       "3                275           7.24        36              2     26.48   \n",
       "4                 38           4.75         8              1     71.82   \n",
       "\n",
       "   SyllableCount  \n",
       "0             32  \n",
       "1             14  \n",
       "2             46  \n",
       "3             60  \n",
       "4             12  "
      ]
     },
     "execution_count": 264,
     "metadata": {},
     "output_type": "execute_result"
    }
   ],
   "source": [
    "X_train = X_train.reset_index(drop = True)\n",
    "X_train.head()"
   ]
  },
  {
   "cell_type": "code",
   "execution_count": 265,
   "metadata": {},
   "outputs": [
    {
     "data": {
      "text/html": [
       "<div>\n",
       "<style scoped>\n",
       "    .dataframe tbody tr th:only-of-type {\n",
       "        vertical-align: middle;\n",
       "    }\n",
       "\n",
       "    .dataframe tbody tr th {\n",
       "        vertical-align: top;\n",
       "    }\n",
       "\n",
       "    .dataframe thead th {\n",
       "        text-align: right;\n",
       "    }\n",
       "</style>\n",
       "<table border=\"1\" class=\"dataframe\">\n",
       "  <thead>\n",
       "    <tr style=\"text-align: right;\">\n",
       "      <th></th>\n",
       "      <th>ID</th>\n",
       "      <th>Author</th>\n",
       "      <th>Comment</th>\n",
       "      <th>Subreddit</th>\n",
       "      <th>Score</th>\n",
       "      <th>Time</th>\n",
       "      <th>Flair</th>\n",
       "      <th>Class</th>\n",
       "      <th>FlairCount</th>\n",
       "      <th>EmojiCount</th>\n",
       "      <th>CommentClean</th>\n",
       "      <th>CommentLength</th>\n",
       "      <th>CommentCharacters</th>\n",
       "      <th>AvgWordLength</th>\n",
       "      <th>LexCount</th>\n",
       "      <th>SentenceCount</th>\n",
       "      <th>ReadEase</th>\n",
       "      <th>SyllableCount</th>\n",
       "    </tr>\n",
       "  </thead>\n",
       "  <tbody>\n",
       "    <tr>\n",
       "      <th>0</th>\n",
       "      <td>cg1tmg1</td>\n",
       "      <td>redditreviewbot</td>\n",
       "      <td>Buck up! You can do it.</td>\n",
       "      <td>Random_Acts_Of_Amazon</td>\n",
       "      <td>2</td>\n",
       "      <td>2014-03-13 12:35:02</td>\n",
       "      <td>None</td>\n",
       "      <td>Bot</td>\n",
       "      <td>0</td>\n",
       "      <td>0</td>\n",
       "      <td>buck up! you can do it.</td>\n",
       "      <td>6</td>\n",
       "      <td>23</td>\n",
       "      <td>3.83</td>\n",
       "      <td>6</td>\n",
       "      <td>1</td>\n",
       "      <td>116.15</td>\n",
       "      <td>6</td>\n",
       "    </tr>\n",
       "    <tr>\n",
       "      <th>1</th>\n",
       "      <td>dgiw905</td>\n",
       "      <td>Here_Comes_The_King</td>\n",
       "      <td>what can celebs do to use their voice to suppo...</td>\n",
       "      <td>trees</td>\n",
       "      <td>421</td>\n",
       "      <td>2017-04-20 10:48:32</td>\n",
       "      <td>None</td>\n",
       "      <td>Non-Bot</td>\n",
       "      <td>0</td>\n",
       "      <td>0</td>\n",
       "      <td>what can celebs do to use their voice to suppo...</td>\n",
       "      <td>11</td>\n",
       "      <td>64</td>\n",
       "      <td>5.82</td>\n",
       "      <td>11</td>\n",
       "      <td>1</td>\n",
       "      <td>68.77</td>\n",
       "      <td>16</td>\n",
       "    </tr>\n",
       "    <tr>\n",
       "      <th>2</th>\n",
       "      <td>g86vapp</td>\n",
       "      <td>unibeech</td>\n",
       "      <td>Technically wasn't legal proceedings. I had ap...</td>\n",
       "      <td>Parenting</td>\n",
       "      <td>1</td>\n",
       "      <td>2020-10-08 22:27:28</td>\n",
       "      <td>None</td>\n",
       "      <td>Non-Bot</td>\n",
       "      <td>0</td>\n",
       "      <td>0</td>\n",
       "      <td>technically wasn't legal proceedings. i had ap...</td>\n",
       "      <td>253</td>\n",
       "      <td>1407</td>\n",
       "      <td>5.56</td>\n",
       "      <td>253</td>\n",
       "      <td>8</td>\n",
       "      <td>-168.41</td>\n",
       "      <td>350</td>\n",
       "    </tr>\n",
       "    <tr>\n",
       "      <th>3</th>\n",
       "      <td>ga2xwx7</td>\n",
       "      <td>garlicdeath</td>\n",
       "      <td>I had to laugh cause I heard about this on NPR...</td>\n",
       "      <td>worldnews</td>\n",
       "      <td>1</td>\n",
       "      <td>2020-10-25 11:18:36</td>\n",
       "      <td>None</td>\n",
       "      <td>Non-Bot</td>\n",
       "      <td>0</td>\n",
       "      <td>0</td>\n",
       "      <td>i had to laugh cause i heard about this on npr...</td>\n",
       "      <td>36</td>\n",
       "      <td>178</td>\n",
       "      <td>4.94</td>\n",
       "      <td>36</td>\n",
       "      <td>1</td>\n",
       "      <td>68.78</td>\n",
       "      <td>43</td>\n",
       "    </tr>\n",
       "    <tr>\n",
       "      <th>4</th>\n",
       "      <td>cjqifma</td>\n",
       "      <td>SakuraiBot_test</td>\n",
       "      <td>Full text:  \\n&amp;gt;Long Picture test: 94af315c-...</td>\n",
       "      <td>SakuraiBot_test</td>\n",
       "      <td>1</td>\n",
       "      <td>2014-08-14 16:14:07</td>\n",
       "      <td>None</td>\n",
       "      <td>Bot</td>\n",
       "      <td>0</td>\n",
       "      <td>0</td>\n",
       "      <td>full text:  \\n&amp;gt;long picture test: 94af315c-...</td>\n",
       "      <td>70</td>\n",
       "      <td>490</td>\n",
       "      <td>7.00</td>\n",
       "      <td>68</td>\n",
       "      <td>2</td>\n",
       "      <td>27.84</td>\n",
       "      <td>87</td>\n",
       "    </tr>\n",
       "  </tbody>\n",
       "</table>\n",
       "</div>"
      ],
      "text/plain": [
       "        ID               Author  \\\n",
       "0  cg1tmg1      redditreviewbot   \n",
       "1  dgiw905  Here_Comes_The_King   \n",
       "2  g86vapp             unibeech   \n",
       "3  ga2xwx7          garlicdeath   \n",
       "4  cjqifma      SakuraiBot_test   \n",
       "\n",
       "                                             Comment              Subreddit  \\\n",
       "0                            Buck up! You can do it.  Random_Acts_Of_Amazon   \n",
       "1  what can celebs do to use their voice to suppo...                  trees   \n",
       "2  Technically wasn't legal proceedings. I had ap...              Parenting   \n",
       "3  I had to laugh cause I heard about this on NPR...              worldnews   \n",
       "4  Full text:  \\n&gt;Long Picture test: 94af315c-...        SakuraiBot_test   \n",
       "\n",
       "   Score                 Time Flair    Class  FlairCount  EmojiCount  \\\n",
       "0      2  2014-03-13 12:35:02  None      Bot           0           0   \n",
       "1    421  2017-04-20 10:48:32  None  Non-Bot           0           0   \n",
       "2      1  2020-10-08 22:27:28  None  Non-Bot           0           0   \n",
       "3      1  2020-10-25 11:18:36  None  Non-Bot           0           0   \n",
       "4      1  2014-08-14 16:14:07  None      Bot           0           0   \n",
       "\n",
       "                                        CommentClean  CommentLength  \\\n",
       "0                            buck up! you can do it.              6   \n",
       "1  what can celebs do to use their voice to suppo...             11   \n",
       "2  technically wasn't legal proceedings. i had ap...            253   \n",
       "3  i had to laugh cause i heard about this on npr...             36   \n",
       "4  full text:  \\n&gt;long picture test: 94af315c-...             70   \n",
       "\n",
       "   CommentCharacters  AvgWordLength  LexCount  SentenceCount  ReadEase  \\\n",
       "0                 23           3.83         6              1    116.15   \n",
       "1                 64           5.82        11              1     68.77   \n",
       "2               1407           5.56       253              8   -168.41   \n",
       "3                178           4.94        36              1     68.78   \n",
       "4                490           7.00        68              2     27.84   \n",
       "\n",
       "   SyllableCount  \n",
       "0              6  \n",
       "1             16  \n",
       "2            350  \n",
       "3             43  \n",
       "4             87  "
      ]
     },
     "execution_count": 265,
     "metadata": {},
     "output_type": "execute_result"
    }
   ],
   "source": [
    "X_test = X_test.reset_index(drop = True)\n",
    "X_test.head()"
   ]
  },
  {
   "cell_type": "markdown",
   "metadata": {},
   "source": [
    "#### iv. Create TFIDF vectors"
   ]
  },
  {
   "cell_type": "code",
   "execution_count": 266,
   "metadata": {},
   "outputs": [
    {
     "name": "stdout",
     "output_type": "stream",
     "text": [
      "(16563, 1000)\n"
     ]
    }
   ],
   "source": [
    "#Transform Training Data to Tfidf vectors\n",
    "cv = CountVectorizer(stop_words='english', max_features=1000, ngram_range=(2,2))\n",
    "X_train_counts = cv.fit_transform(X_train['CommentClean'])\n",
    "\n",
    "tf = TfidfTransformer(use_idf=False)\n",
    "X_train_tfidf = tf.fit_transform(X_train_counts)\n",
    "\n",
    "print (X_train_tfidf.shape)"
   ]
  },
  {
   "cell_type": "code",
   "execution_count": 267,
   "metadata": {},
   "outputs": [],
   "source": [
    "# Create a DataFrame of the features for X_train\n",
    "X_train_tfidf_df = pd.DataFrame(X_train_tfidf.toarray(), \n",
    "                 columns=cv.get_feature_names()).add_prefix('Counts_')"
   ]
  },
  {
   "cell_type": "code",
   "execution_count": 268,
   "metadata": {},
   "outputs": [
    {
     "data": {
      "text/html": [
       "<div>\n",
       "<style scoped>\n",
       "    .dataframe tbody tr th:only-of-type {\n",
       "        vertical-align: middle;\n",
       "    }\n",
       "\n",
       "    .dataframe tbody tr th {\n",
       "        vertical-align: top;\n",
       "    }\n",
       "\n",
       "    .dataframe thead th {\n",
       "        text-align: right;\n",
       "    }\n",
       "</style>\n",
       "<table border=\"1\" class=\"dataframe\">\n",
       "  <thead>\n",
       "    <tr style=\"text-align: right;\">\n",
       "      <th></th>\n",
       "      <th>Counts_0000 0000</th>\n",
       "      <th>Counts_000000 fedoracoin</th>\n",
       "      <th>Counts_009 amp</th>\n",
       "      <th>Counts_0a 0a</th>\n",
       "      <th>Counts_0a 0aplease</th>\n",
       "      <th>Counts_10 15</th>\n",
       "      <th>Counts_10 bonus</th>\n",
       "      <th>Counts_100 bonus</th>\n",
       "      <th>Counts_12 hour</th>\n",
       "      <th>Counts_1339 cf</th>\n",
       "      <th>...</th>\n",
       "      <th>Counts_xl torpedo</th>\n",
       "      <th>Counts_year old</th>\n",
       "      <th>Counts_years ago</th>\n",
       "      <th>Counts_years old</th>\n",
       "      <th>Counts_yes yes</th>\n",
       "      <th>Counts_youtube com</th>\n",
       "      <th>Counts_youtube mirror</th>\n",
       "      <th>Counts_yugioh prices</th>\n",
       "      <th>Counts_yugioh wikia</th>\n",
       "      <th>Counts_zh reddit</th>\n",
       "    </tr>\n",
       "  </thead>\n",
       "  <tbody>\n",
       "    <tr>\n",
       "      <th>0</th>\n",
       "      <td>0.0</td>\n",
       "      <td>0.0</td>\n",
       "      <td>0.0</td>\n",
       "      <td>0.0</td>\n",
       "      <td>0.0</td>\n",
       "      <td>0.0</td>\n",
       "      <td>0.0</td>\n",
       "      <td>0.0</td>\n",
       "      <td>0.0</td>\n",
       "      <td>0.0</td>\n",
       "      <td>...</td>\n",
       "      <td>0.0</td>\n",
       "      <td>0.0</td>\n",
       "      <td>0.0</td>\n",
       "      <td>0.0</td>\n",
       "      <td>0.0</td>\n",
       "      <td>0.0</td>\n",
       "      <td>0.0</td>\n",
       "      <td>0.0</td>\n",
       "      <td>0.0</td>\n",
       "      <td>0.0</td>\n",
       "    </tr>\n",
       "    <tr>\n",
       "      <th>1</th>\n",
       "      <td>0.0</td>\n",
       "      <td>0.0</td>\n",
       "      <td>0.0</td>\n",
       "      <td>0.0</td>\n",
       "      <td>0.0</td>\n",
       "      <td>0.0</td>\n",
       "      <td>0.0</td>\n",
       "      <td>0.0</td>\n",
       "      <td>0.0</td>\n",
       "      <td>0.0</td>\n",
       "      <td>...</td>\n",
       "      <td>0.0</td>\n",
       "      <td>0.0</td>\n",
       "      <td>0.0</td>\n",
       "      <td>0.0</td>\n",
       "      <td>0.0</td>\n",
       "      <td>0.0</td>\n",
       "      <td>0.0</td>\n",
       "      <td>0.0</td>\n",
       "      <td>0.0</td>\n",
       "      <td>0.0</td>\n",
       "    </tr>\n",
       "    <tr>\n",
       "      <th>2</th>\n",
       "      <td>0.0</td>\n",
       "      <td>0.0</td>\n",
       "      <td>0.0</td>\n",
       "      <td>0.0</td>\n",
       "      <td>0.0</td>\n",
       "      <td>0.0</td>\n",
       "      <td>0.0</td>\n",
       "      <td>0.0</td>\n",
       "      <td>0.0</td>\n",
       "      <td>0.0</td>\n",
       "      <td>...</td>\n",
       "      <td>0.0</td>\n",
       "      <td>0.0</td>\n",
       "      <td>0.0</td>\n",
       "      <td>0.0</td>\n",
       "      <td>0.0</td>\n",
       "      <td>0.0</td>\n",
       "      <td>0.0</td>\n",
       "      <td>0.0</td>\n",
       "      <td>0.0</td>\n",
       "      <td>0.0</td>\n",
       "    </tr>\n",
       "    <tr>\n",
       "      <th>3</th>\n",
       "      <td>0.0</td>\n",
       "      <td>0.0</td>\n",
       "      <td>0.0</td>\n",
       "      <td>0.0</td>\n",
       "      <td>0.0</td>\n",
       "      <td>0.0</td>\n",
       "      <td>0.0</td>\n",
       "      <td>0.0</td>\n",
       "      <td>0.0</td>\n",
       "      <td>0.0</td>\n",
       "      <td>...</td>\n",
       "      <td>0.0</td>\n",
       "      <td>0.0</td>\n",
       "      <td>0.0</td>\n",
       "      <td>0.0</td>\n",
       "      <td>0.0</td>\n",
       "      <td>0.0</td>\n",
       "      <td>0.0</td>\n",
       "      <td>0.0</td>\n",
       "      <td>0.0</td>\n",
       "      <td>0.0</td>\n",
       "    </tr>\n",
       "    <tr>\n",
       "      <th>4</th>\n",
       "      <td>0.0</td>\n",
       "      <td>0.0</td>\n",
       "      <td>0.0</td>\n",
       "      <td>0.0</td>\n",
       "      <td>0.0</td>\n",
       "      <td>0.0</td>\n",
       "      <td>0.0</td>\n",
       "      <td>0.0</td>\n",
       "      <td>0.0</td>\n",
       "      <td>0.0</td>\n",
       "      <td>...</td>\n",
       "      <td>0.0</td>\n",
       "      <td>0.0</td>\n",
       "      <td>0.0</td>\n",
       "      <td>0.0</td>\n",
       "      <td>0.0</td>\n",
       "      <td>0.0</td>\n",
       "      <td>0.0</td>\n",
       "      <td>0.0</td>\n",
       "      <td>0.0</td>\n",
       "      <td>0.0</td>\n",
       "    </tr>\n",
       "  </tbody>\n",
       "</table>\n",
       "<p>5 rows × 1000 columns</p>\n",
       "</div>"
      ],
      "text/plain": [
       "   Counts_0000 0000  Counts_000000 fedoracoin  Counts_009 amp  Counts_0a 0a  \\\n",
       "0               0.0                       0.0             0.0           0.0   \n",
       "1               0.0                       0.0             0.0           0.0   \n",
       "2               0.0                       0.0             0.0           0.0   \n",
       "3               0.0                       0.0             0.0           0.0   \n",
       "4               0.0                       0.0             0.0           0.0   \n",
       "\n",
       "   Counts_0a 0aplease  Counts_10 15  Counts_10 bonus  Counts_100 bonus  \\\n",
       "0                 0.0           0.0              0.0               0.0   \n",
       "1                 0.0           0.0              0.0               0.0   \n",
       "2                 0.0           0.0              0.0               0.0   \n",
       "3                 0.0           0.0              0.0               0.0   \n",
       "4                 0.0           0.0              0.0               0.0   \n",
       "\n",
       "   Counts_12 hour  Counts_1339 cf  ...  Counts_xl torpedo  Counts_year old  \\\n",
       "0             0.0             0.0  ...                0.0              0.0   \n",
       "1             0.0             0.0  ...                0.0              0.0   \n",
       "2             0.0             0.0  ...                0.0              0.0   \n",
       "3             0.0             0.0  ...                0.0              0.0   \n",
       "4             0.0             0.0  ...                0.0              0.0   \n",
       "\n",
       "   Counts_years ago  Counts_years old  Counts_yes yes  Counts_youtube com  \\\n",
       "0               0.0               0.0             0.0                 0.0   \n",
       "1               0.0               0.0             0.0                 0.0   \n",
       "2               0.0               0.0             0.0                 0.0   \n",
       "3               0.0               0.0             0.0                 0.0   \n",
       "4               0.0               0.0             0.0                 0.0   \n",
       "\n",
       "   Counts_youtube mirror  Counts_yugioh prices  Counts_yugioh wikia  \\\n",
       "0                    0.0                   0.0                  0.0   \n",
       "1                    0.0                   0.0                  0.0   \n",
       "2                    0.0                   0.0                  0.0   \n",
       "3                    0.0                   0.0                  0.0   \n",
       "4                    0.0                   0.0                  0.0   \n",
       "\n",
       "   Counts_zh reddit  \n",
       "0               0.0  \n",
       "1               0.0  \n",
       "2               0.0  \n",
       "3               0.0  \n",
       "4               0.0  \n",
       "\n",
       "[5 rows x 1000 columns]"
      ]
     },
     "execution_count": 268,
     "metadata": {},
     "output_type": "execute_result"
    }
   ],
   "source": [
    "X_train_tfidf_df.head()"
   ]
  },
  {
   "cell_type": "code",
   "execution_count": 269,
   "metadata": {},
   "outputs": [
    {
     "data": {
      "text/plain": [
       "(16563, 1000)"
      ]
     },
     "execution_count": 269,
     "metadata": {},
     "output_type": "execute_result"
    }
   ],
   "source": [
    "X_train_tfidf_df.shape"
   ]
  },
  {
   "cell_type": "code",
   "execution_count": 270,
   "metadata": {},
   "outputs": [],
   "source": [
    "#Join X_train with TFIDF features\n",
    "X_train = X_train.join(X_train_tfidf_df)"
   ]
  },
  {
   "cell_type": "code",
   "execution_count": 271,
   "metadata": {},
   "outputs": [
    {
     "data": {
      "text/html": [
       "<div>\n",
       "<style scoped>\n",
       "    .dataframe tbody tr th:only-of-type {\n",
       "        vertical-align: middle;\n",
       "    }\n",
       "\n",
       "    .dataframe tbody tr th {\n",
       "        vertical-align: top;\n",
       "    }\n",
       "\n",
       "    .dataframe thead th {\n",
       "        text-align: right;\n",
       "    }\n",
       "</style>\n",
       "<table border=\"1\" class=\"dataframe\">\n",
       "  <thead>\n",
       "    <tr style=\"text-align: right;\">\n",
       "      <th></th>\n",
       "      <th>ID</th>\n",
       "      <th>Author</th>\n",
       "      <th>Comment</th>\n",
       "      <th>Subreddit</th>\n",
       "      <th>Score</th>\n",
       "      <th>Time</th>\n",
       "      <th>Flair</th>\n",
       "      <th>Class</th>\n",
       "      <th>FlairCount</th>\n",
       "      <th>EmojiCount</th>\n",
       "      <th>...</th>\n",
       "      <th>Counts_xl torpedo</th>\n",
       "      <th>Counts_year old</th>\n",
       "      <th>Counts_years ago</th>\n",
       "      <th>Counts_years old</th>\n",
       "      <th>Counts_yes yes</th>\n",
       "      <th>Counts_youtube com</th>\n",
       "      <th>Counts_youtube mirror</th>\n",
       "      <th>Counts_yugioh prices</th>\n",
       "      <th>Counts_yugioh wikia</th>\n",
       "      <th>Counts_zh reddit</th>\n",
       "    </tr>\n",
       "  </thead>\n",
       "  <tbody>\n",
       "    <tr>\n",
       "      <th>0</th>\n",
       "      <td>gaa5btn</td>\n",
       "      <td>andrewsmith1986</td>\n",
       "      <td>I actually am not a huge fan of either of thei...</td>\n",
       "      <td>pics</td>\n",
       "      <td>1</td>\n",
       "      <td>2020-10-27 08:38:34</td>\n",
       "      <td>None</td>\n",
       "      <td>Non-Bot</td>\n",
       "      <td>0</td>\n",
       "      <td>0</td>\n",
       "      <td>...</td>\n",
       "      <td>0.0</td>\n",
       "      <td>0.0</td>\n",
       "      <td>0.0</td>\n",
       "      <td>0.0</td>\n",
       "      <td>0.0</td>\n",
       "      <td>0.0</td>\n",
       "      <td>0.0</td>\n",
       "      <td>0.0</td>\n",
       "      <td>0.0</td>\n",
       "      <td>0.0</td>\n",
       "    </tr>\n",
       "    <tr>\n",
       "      <th>1</th>\n",
       "      <td>g928ygw</td>\n",
       "      <td>GovSchwarzenegger</td>\n",
       "      <td>Thank you for voting! Come back here and tell ...</td>\n",
       "      <td>ColumbusGA</td>\n",
       "      <td>1</td>\n",
       "      <td>2020-10-16 18:25:09</td>\n",
       "      <td>None</td>\n",
       "      <td>Non-Bot</td>\n",
       "      <td>0</td>\n",
       "      <td>0</td>\n",
       "      <td>...</td>\n",
       "      <td>0.0</td>\n",
       "      <td>0.0</td>\n",
       "      <td>0.0</td>\n",
       "      <td>0.0</td>\n",
       "      <td>0.0</td>\n",
       "      <td>0.0</td>\n",
       "      <td>0.0</td>\n",
       "      <td>0.0</td>\n",
       "      <td>0.0</td>\n",
       "      <td>0.0</td>\n",
       "    </tr>\n",
       "  </tbody>\n",
       "</table>\n",
       "<p>2 rows × 1018 columns</p>\n",
       "</div>"
      ],
      "text/plain": [
       "        ID             Author  \\\n",
       "0  gaa5btn    andrewsmith1986   \n",
       "1  g928ygw  GovSchwarzenegger   \n",
       "\n",
       "                                             Comment   Subreddit  Score  \\\n",
       "0  I actually am not a huge fan of either of thei...        pics      1   \n",
       "1  Thank you for voting! Come back here and tell ...  ColumbusGA      1   \n",
       "\n",
       "                  Time Flair    Class  FlairCount  EmojiCount  ...  \\\n",
       "0  2020-10-27 08:38:34  None  Non-Bot           0           0  ...   \n",
       "1  2020-10-16 18:25:09  None  Non-Bot           0           0  ...   \n",
       "\n",
       "  Counts_xl torpedo  Counts_year old  Counts_years ago  Counts_years old  \\\n",
       "0               0.0              0.0               0.0               0.0   \n",
       "1               0.0              0.0               0.0               0.0   \n",
       "\n",
       "   Counts_yes yes  Counts_youtube com  Counts_youtube mirror  \\\n",
       "0             0.0                 0.0                    0.0   \n",
       "1             0.0                 0.0                    0.0   \n",
       "\n",
       "   Counts_yugioh prices  Counts_yugioh wikia  Counts_zh reddit  \n",
       "0                   0.0                  0.0               0.0  \n",
       "1                   0.0                  0.0               0.0  \n",
       "\n",
       "[2 rows x 1018 columns]"
      ]
     },
     "execution_count": 271,
     "metadata": {},
     "output_type": "execute_result"
    }
   ],
   "source": [
    "X_train.head(2)"
   ]
  },
  {
   "cell_type": "code",
   "execution_count": 272,
   "metadata": {},
   "outputs": [
    {
     "data": {
      "text/plain": [
       "(16563, 1018)"
      ]
     },
     "execution_count": 272,
     "metadata": {},
     "output_type": "execute_result"
    }
   ],
   "source": [
    "X_train.shape"
   ]
  },
  {
   "cell_type": "code",
   "execution_count": 273,
   "metadata": {},
   "outputs": [
    {
     "name": "stdout",
     "output_type": "stream",
     "text": [
      "(4141, 1000)\n"
     ]
    }
   ],
   "source": [
    "#Transform Test Data to Tfidf vectors\n",
    "X_test_counts = cv.transform(X_test['CommentClean'])\n",
    "\n",
    "tf = TfidfTransformer(use_idf=False)\n",
    "X_test_tfidf = tf.transform(X_test_counts)\n",
    "\n",
    "print (X_test_tfidf.shape)"
   ]
  },
  {
   "cell_type": "code",
   "execution_count": 274,
   "metadata": {},
   "outputs": [
    {
     "data": {
      "text/html": [
       "<div>\n",
       "<style scoped>\n",
       "    .dataframe tbody tr th:only-of-type {\n",
       "        vertical-align: middle;\n",
       "    }\n",
       "\n",
       "    .dataframe tbody tr th {\n",
       "        vertical-align: top;\n",
       "    }\n",
       "\n",
       "    .dataframe thead th {\n",
       "        text-align: right;\n",
       "    }\n",
       "</style>\n",
       "<table border=\"1\" class=\"dataframe\">\n",
       "  <thead>\n",
       "    <tr style=\"text-align: right;\">\n",
       "      <th></th>\n",
       "      <th>Counts_0000 0000</th>\n",
       "      <th>Counts_000000 fedoracoin</th>\n",
       "      <th>Counts_009 amp</th>\n",
       "      <th>Counts_0a 0a</th>\n",
       "      <th>Counts_0a 0aplease</th>\n",
       "      <th>Counts_10 15</th>\n",
       "      <th>Counts_10 bonus</th>\n",
       "      <th>Counts_100 bonus</th>\n",
       "      <th>Counts_12 hour</th>\n",
       "      <th>Counts_1339 cf</th>\n",
       "      <th>...</th>\n",
       "      <th>Counts_xl torpedo</th>\n",
       "      <th>Counts_year old</th>\n",
       "      <th>Counts_years ago</th>\n",
       "      <th>Counts_years old</th>\n",
       "      <th>Counts_yes yes</th>\n",
       "      <th>Counts_youtube com</th>\n",
       "      <th>Counts_youtube mirror</th>\n",
       "      <th>Counts_yugioh prices</th>\n",
       "      <th>Counts_yugioh wikia</th>\n",
       "      <th>Counts_zh reddit</th>\n",
       "    </tr>\n",
       "  </thead>\n",
       "  <tbody>\n",
       "    <tr>\n",
       "      <th>0</th>\n",
       "      <td>0.0</td>\n",
       "      <td>0.0</td>\n",
       "      <td>0.0</td>\n",
       "      <td>0.0</td>\n",
       "      <td>0.0</td>\n",
       "      <td>0.0</td>\n",
       "      <td>0.0</td>\n",
       "      <td>0.0</td>\n",
       "      <td>0.0</td>\n",
       "      <td>0.0</td>\n",
       "      <td>...</td>\n",
       "      <td>0.0</td>\n",
       "      <td>0.0</td>\n",
       "      <td>0.0</td>\n",
       "      <td>0.0</td>\n",
       "      <td>0.0</td>\n",
       "      <td>0.0</td>\n",
       "      <td>0.0</td>\n",
       "      <td>0.0</td>\n",
       "      <td>0.0</td>\n",
       "      <td>0.0</td>\n",
       "    </tr>\n",
       "    <tr>\n",
       "      <th>1</th>\n",
       "      <td>0.0</td>\n",
       "      <td>0.0</td>\n",
       "      <td>0.0</td>\n",
       "      <td>0.0</td>\n",
       "      <td>0.0</td>\n",
       "      <td>0.0</td>\n",
       "      <td>0.0</td>\n",
       "      <td>0.0</td>\n",
       "      <td>0.0</td>\n",
       "      <td>0.0</td>\n",
       "      <td>...</td>\n",
       "      <td>0.0</td>\n",
       "      <td>0.0</td>\n",
       "      <td>0.0</td>\n",
       "      <td>0.0</td>\n",
       "      <td>0.0</td>\n",
       "      <td>0.0</td>\n",
       "      <td>0.0</td>\n",
       "      <td>0.0</td>\n",
       "      <td>0.0</td>\n",
       "      <td>0.0</td>\n",
       "    </tr>\n",
       "    <tr>\n",
       "      <th>2</th>\n",
       "      <td>0.0</td>\n",
       "      <td>0.0</td>\n",
       "      <td>0.0</td>\n",
       "      <td>0.0</td>\n",
       "      <td>0.0</td>\n",
       "      <td>0.0</td>\n",
       "      <td>0.0</td>\n",
       "      <td>0.0</td>\n",
       "      <td>0.0</td>\n",
       "      <td>0.0</td>\n",
       "      <td>...</td>\n",
       "      <td>0.0</td>\n",
       "      <td>0.0</td>\n",
       "      <td>0.0</td>\n",
       "      <td>0.0</td>\n",
       "      <td>0.0</td>\n",
       "      <td>0.0</td>\n",
       "      <td>0.0</td>\n",
       "      <td>0.0</td>\n",
       "      <td>0.0</td>\n",
       "      <td>0.0</td>\n",
       "    </tr>\n",
       "    <tr>\n",
       "      <th>3</th>\n",
       "      <td>0.0</td>\n",
       "      <td>0.0</td>\n",
       "      <td>0.0</td>\n",
       "      <td>0.0</td>\n",
       "      <td>0.0</td>\n",
       "      <td>0.0</td>\n",
       "      <td>0.0</td>\n",
       "      <td>0.0</td>\n",
       "      <td>0.0</td>\n",
       "      <td>0.0</td>\n",
       "      <td>...</td>\n",
       "      <td>0.0</td>\n",
       "      <td>0.0</td>\n",
       "      <td>0.0</td>\n",
       "      <td>0.0</td>\n",
       "      <td>0.0</td>\n",
       "      <td>0.0</td>\n",
       "      <td>0.0</td>\n",
       "      <td>0.0</td>\n",
       "      <td>0.0</td>\n",
       "      <td>0.0</td>\n",
       "    </tr>\n",
       "    <tr>\n",
       "      <th>4</th>\n",
       "      <td>0.0</td>\n",
       "      <td>0.0</td>\n",
       "      <td>0.0</td>\n",
       "      <td>0.0</td>\n",
       "      <td>0.0</td>\n",
       "      <td>0.0</td>\n",
       "      <td>0.0</td>\n",
       "      <td>0.0</td>\n",
       "      <td>0.0</td>\n",
       "      <td>0.0</td>\n",
       "      <td>...</td>\n",
       "      <td>0.0</td>\n",
       "      <td>0.0</td>\n",
       "      <td>0.0</td>\n",
       "      <td>0.0</td>\n",
       "      <td>0.0</td>\n",
       "      <td>0.0</td>\n",
       "      <td>0.0</td>\n",
       "      <td>0.0</td>\n",
       "      <td>0.0</td>\n",
       "      <td>0.0</td>\n",
       "    </tr>\n",
       "  </tbody>\n",
       "</table>\n",
       "<p>5 rows × 1000 columns</p>\n",
       "</div>"
      ],
      "text/plain": [
       "   Counts_0000 0000  Counts_000000 fedoracoin  Counts_009 amp  Counts_0a 0a  \\\n",
       "0               0.0                       0.0             0.0           0.0   \n",
       "1               0.0                       0.0             0.0           0.0   \n",
       "2               0.0                       0.0             0.0           0.0   \n",
       "3               0.0                       0.0             0.0           0.0   \n",
       "4               0.0                       0.0             0.0           0.0   \n",
       "\n",
       "   Counts_0a 0aplease  Counts_10 15  Counts_10 bonus  Counts_100 bonus  \\\n",
       "0                 0.0           0.0              0.0               0.0   \n",
       "1                 0.0           0.0              0.0               0.0   \n",
       "2                 0.0           0.0              0.0               0.0   \n",
       "3                 0.0           0.0              0.0               0.0   \n",
       "4                 0.0           0.0              0.0               0.0   \n",
       "\n",
       "   Counts_12 hour  Counts_1339 cf  ...  Counts_xl torpedo  Counts_year old  \\\n",
       "0             0.0             0.0  ...                0.0              0.0   \n",
       "1             0.0             0.0  ...                0.0              0.0   \n",
       "2             0.0             0.0  ...                0.0              0.0   \n",
       "3             0.0             0.0  ...                0.0              0.0   \n",
       "4             0.0             0.0  ...                0.0              0.0   \n",
       "\n",
       "   Counts_years ago  Counts_years old  Counts_yes yes  Counts_youtube com  \\\n",
       "0               0.0               0.0             0.0                 0.0   \n",
       "1               0.0               0.0             0.0                 0.0   \n",
       "2               0.0               0.0             0.0                 0.0   \n",
       "3               0.0               0.0             0.0                 0.0   \n",
       "4               0.0               0.0             0.0                 0.0   \n",
       "\n",
       "   Counts_youtube mirror  Counts_yugioh prices  Counts_yugioh wikia  \\\n",
       "0                    0.0                   0.0                  0.0   \n",
       "1                    0.0                   0.0                  0.0   \n",
       "2                    0.0                   0.0                  0.0   \n",
       "3                    0.0                   0.0                  0.0   \n",
       "4                    0.0                   0.0                  0.0   \n",
       "\n",
       "   Counts_zh reddit  \n",
       "0               0.0  \n",
       "1               0.0  \n",
       "2               0.0  \n",
       "3               0.0  \n",
       "4               0.0  \n",
       "\n",
       "[5 rows x 1000 columns]"
      ]
     },
     "execution_count": 274,
     "metadata": {},
     "output_type": "execute_result"
    }
   ],
   "source": [
    "# Create a DataFrame of the features for X_test\n",
    "X_test_tfidf_df = pd.DataFrame(X_test_tfidf.toarray(), \n",
    "                 columns=cv.get_feature_names()).add_prefix('Counts_')\n",
    "\n",
    "X_test_tfidf_df.head()"
   ]
  },
  {
   "cell_type": "code",
   "execution_count": 275,
   "metadata": {},
   "outputs": [
    {
     "data": {
      "text/html": [
       "<div>\n",
       "<style scoped>\n",
       "    .dataframe tbody tr th:only-of-type {\n",
       "        vertical-align: middle;\n",
       "    }\n",
       "\n",
       "    .dataframe tbody tr th {\n",
       "        vertical-align: top;\n",
       "    }\n",
       "\n",
       "    .dataframe thead th {\n",
       "        text-align: right;\n",
       "    }\n",
       "</style>\n",
       "<table border=\"1\" class=\"dataframe\">\n",
       "  <thead>\n",
       "    <tr style=\"text-align: right;\">\n",
       "      <th></th>\n",
       "      <th>ID</th>\n",
       "      <th>Author</th>\n",
       "      <th>Comment</th>\n",
       "      <th>Subreddit</th>\n",
       "      <th>Score</th>\n",
       "      <th>Time</th>\n",
       "      <th>Flair</th>\n",
       "      <th>Class</th>\n",
       "      <th>FlairCount</th>\n",
       "      <th>EmojiCount</th>\n",
       "      <th>...</th>\n",
       "      <th>Counts_xl torpedo</th>\n",
       "      <th>Counts_year old</th>\n",
       "      <th>Counts_years ago</th>\n",
       "      <th>Counts_years old</th>\n",
       "      <th>Counts_yes yes</th>\n",
       "      <th>Counts_youtube com</th>\n",
       "      <th>Counts_youtube mirror</th>\n",
       "      <th>Counts_yugioh prices</th>\n",
       "      <th>Counts_yugioh wikia</th>\n",
       "      <th>Counts_zh reddit</th>\n",
       "    </tr>\n",
       "  </thead>\n",
       "  <tbody>\n",
       "    <tr>\n",
       "      <th>0</th>\n",
       "      <td>cg1tmg1</td>\n",
       "      <td>redditreviewbot</td>\n",
       "      <td>Buck up! You can do it.</td>\n",
       "      <td>Random_Acts_Of_Amazon</td>\n",
       "      <td>2</td>\n",
       "      <td>2014-03-13 12:35:02</td>\n",
       "      <td>None</td>\n",
       "      <td>Bot</td>\n",
       "      <td>0</td>\n",
       "      <td>0</td>\n",
       "      <td>...</td>\n",
       "      <td>0.0</td>\n",
       "      <td>0.0</td>\n",
       "      <td>0.0</td>\n",
       "      <td>0.0</td>\n",
       "      <td>0.0</td>\n",
       "      <td>0.0</td>\n",
       "      <td>0.0</td>\n",
       "      <td>0.0</td>\n",
       "      <td>0.0</td>\n",
       "      <td>0.0</td>\n",
       "    </tr>\n",
       "    <tr>\n",
       "      <th>1</th>\n",
       "      <td>dgiw905</td>\n",
       "      <td>Here_Comes_The_King</td>\n",
       "      <td>what can celebs do to use their voice to suppo...</td>\n",
       "      <td>trees</td>\n",
       "      <td>421</td>\n",
       "      <td>2017-04-20 10:48:32</td>\n",
       "      <td>None</td>\n",
       "      <td>Non-Bot</td>\n",
       "      <td>0</td>\n",
       "      <td>0</td>\n",
       "      <td>...</td>\n",
       "      <td>0.0</td>\n",
       "      <td>0.0</td>\n",
       "      <td>0.0</td>\n",
       "      <td>0.0</td>\n",
       "      <td>0.0</td>\n",
       "      <td>0.0</td>\n",
       "      <td>0.0</td>\n",
       "      <td>0.0</td>\n",
       "      <td>0.0</td>\n",
       "      <td>0.0</td>\n",
       "    </tr>\n",
       "  </tbody>\n",
       "</table>\n",
       "<p>2 rows × 1018 columns</p>\n",
       "</div>"
      ],
      "text/plain": [
       "        ID               Author  \\\n",
       "0  cg1tmg1      redditreviewbot   \n",
       "1  dgiw905  Here_Comes_The_King   \n",
       "\n",
       "                                             Comment              Subreddit  \\\n",
       "0                            Buck up! You can do it.  Random_Acts_Of_Amazon   \n",
       "1  what can celebs do to use their voice to suppo...                  trees   \n",
       "\n",
       "   Score                 Time Flair    Class  FlairCount  EmojiCount  ...  \\\n",
       "0      2  2014-03-13 12:35:02  None      Bot           0           0  ...   \n",
       "1    421  2017-04-20 10:48:32  None  Non-Bot           0           0  ...   \n",
       "\n",
       "  Counts_xl torpedo  Counts_year old  Counts_years ago  Counts_years old  \\\n",
       "0               0.0              0.0               0.0               0.0   \n",
       "1               0.0              0.0               0.0               0.0   \n",
       "\n",
       "   Counts_yes yes  Counts_youtube com  Counts_youtube mirror  \\\n",
       "0             0.0                 0.0                    0.0   \n",
       "1             0.0                 0.0                    0.0   \n",
       "\n",
       "   Counts_yugioh prices  Counts_yugioh wikia  Counts_zh reddit  \n",
       "0                   0.0                  0.0               0.0  \n",
       "1                   0.0                  0.0               0.0  \n",
       "\n",
       "[2 rows x 1018 columns]"
      ]
     },
     "execution_count": 275,
     "metadata": {},
     "output_type": "execute_result"
    }
   ],
   "source": [
    "#Join X_test with TFIDF features\n",
    "X_test = X_test.join(X_test_tfidf_df)\n",
    "\n",
    "X_test.head(2)"
   ]
  },
  {
   "cell_type": "code",
   "execution_count": 276,
   "metadata": {},
   "outputs": [
    {
     "data": {
      "text/plain": [
       "(4141, 1018)"
      ]
     },
     "execution_count": 276,
     "metadata": {},
     "output_type": "execute_result"
    }
   ],
   "source": [
    "X_test.shape"
   ]
  },
  {
   "cell_type": "code",
   "execution_count": 277,
   "metadata": {},
   "outputs": [
    {
     "data": {
      "text/html": [
       "<div>\n",
       "<style scoped>\n",
       "    .dataframe tbody tr th:only-of-type {\n",
       "        vertical-align: middle;\n",
       "    }\n",
       "\n",
       "    .dataframe tbody tr th {\n",
       "        vertical-align: top;\n",
       "    }\n",
       "\n",
       "    .dataframe thead th {\n",
       "        text-align: right;\n",
       "    }\n",
       "</style>\n",
       "<table border=\"1\" class=\"dataframe\">\n",
       "  <thead>\n",
       "    <tr style=\"text-align: right;\">\n",
       "      <th></th>\n",
       "      <th>Score</th>\n",
       "      <th>FlairCount</th>\n",
       "      <th>EmojiCount</th>\n",
       "      <th>CommentLength</th>\n",
       "      <th>CommentCharacters</th>\n",
       "      <th>AvgWordLength</th>\n",
       "      <th>LexCount</th>\n",
       "      <th>SentenceCount</th>\n",
       "      <th>ReadEase</th>\n",
       "      <th>SyllableCount</th>\n",
       "      <th>...</th>\n",
       "      <th>Counts_xl torpedo</th>\n",
       "      <th>Counts_year old</th>\n",
       "      <th>Counts_years ago</th>\n",
       "      <th>Counts_years old</th>\n",
       "      <th>Counts_yes yes</th>\n",
       "      <th>Counts_youtube com</th>\n",
       "      <th>Counts_youtube mirror</th>\n",
       "      <th>Counts_yugioh prices</th>\n",
       "      <th>Counts_yugioh wikia</th>\n",
       "      <th>Counts_zh reddit</th>\n",
       "    </tr>\n",
       "  </thead>\n",
       "  <tbody>\n",
       "    <tr>\n",
       "      <th>0</th>\n",
       "      <td>1</td>\n",
       "      <td>0</td>\n",
       "      <td>0</td>\n",
       "      <td>25</td>\n",
       "      <td>116</td>\n",
       "      <td>4.64</td>\n",
       "      <td>25</td>\n",
       "      <td>1</td>\n",
       "      <td>71.48</td>\n",
       "      <td>32</td>\n",
       "      <td>...</td>\n",
       "      <td>0.0</td>\n",
       "      <td>0.0</td>\n",
       "      <td>0.0</td>\n",
       "      <td>0.0</td>\n",
       "      <td>0.0</td>\n",
       "      <td>0.0</td>\n",
       "      <td>0.0</td>\n",
       "      <td>0.0</td>\n",
       "      <td>0.0</td>\n",
       "      <td>0.0</td>\n",
       "    </tr>\n",
       "    <tr>\n",
       "      <th>1</th>\n",
       "      <td>1</td>\n",
       "      <td>0</td>\n",
       "      <td>0</td>\n",
       "      <td>13</td>\n",
       "      <td>61</td>\n",
       "      <td>4.69</td>\n",
       "      <td>13</td>\n",
       "      <td>2</td>\n",
       "      <td>100.58</td>\n",
       "      <td>14</td>\n",
       "      <td>...</td>\n",
       "      <td>0.0</td>\n",
       "      <td>0.0</td>\n",
       "      <td>0.0</td>\n",
       "      <td>0.0</td>\n",
       "      <td>0.0</td>\n",
       "      <td>0.0</td>\n",
       "      <td>0.0</td>\n",
       "      <td>0.0</td>\n",
       "      <td>0.0</td>\n",
       "      <td>0.0</td>\n",
       "    </tr>\n",
       "  </tbody>\n",
       "</table>\n",
       "<p>2 rows × 1010 columns</p>\n",
       "</div>"
      ],
      "text/plain": [
       "   Score  FlairCount  EmojiCount  CommentLength  CommentCharacters  \\\n",
       "0      1           0           0             25                116   \n",
       "1      1           0           0             13                 61   \n",
       "\n",
       "   AvgWordLength  LexCount  SentenceCount  ReadEase  SyllableCount  ...  \\\n",
       "0           4.64        25              1     71.48             32  ...   \n",
       "1           4.69        13              2    100.58             14  ...   \n",
       "\n",
       "   Counts_xl torpedo  Counts_year old  Counts_years ago  Counts_years old  \\\n",
       "0                0.0              0.0               0.0               0.0   \n",
       "1                0.0              0.0               0.0               0.0   \n",
       "\n",
       "   Counts_yes yes  Counts_youtube com  Counts_youtube mirror  \\\n",
       "0             0.0                 0.0                    0.0   \n",
       "1             0.0                 0.0                    0.0   \n",
       "\n",
       "   Counts_yugioh prices  Counts_yugioh wikia  Counts_zh reddit  \n",
       "0                   0.0                  0.0               0.0  \n",
       "1                   0.0                  0.0               0.0  \n",
       "\n",
       "[2 rows x 1010 columns]"
      ]
     },
     "execution_count": 277,
     "metadata": {},
     "output_type": "execute_result"
    }
   ],
   "source": [
    "#Drop Categorical/Text Features\n",
    "X_train = X_train.drop(['ID', 'Author', 'Comment', 'Subreddit', 'Time', 'Flair', 'Class', 'CommentClean'], axis=1)\n",
    "\n",
    "#Visual Check\n",
    "X_train.head(2)"
   ]
  },
  {
   "cell_type": "code",
   "execution_count": 278,
   "metadata": {},
   "outputs": [
    {
     "data": {
      "text/plain": [
       "(16563, 1010)"
      ]
     },
     "execution_count": 278,
     "metadata": {},
     "output_type": "execute_result"
    }
   ],
   "source": [
    "X_train.shape"
   ]
  },
  {
   "cell_type": "code",
   "execution_count": 279,
   "metadata": {},
   "outputs": [
    {
     "data": {
      "text/html": [
       "<div>\n",
       "<style scoped>\n",
       "    .dataframe tbody tr th:only-of-type {\n",
       "        vertical-align: middle;\n",
       "    }\n",
       "\n",
       "    .dataframe tbody tr th {\n",
       "        vertical-align: top;\n",
       "    }\n",
       "\n",
       "    .dataframe thead th {\n",
       "        text-align: right;\n",
       "    }\n",
       "</style>\n",
       "<table border=\"1\" class=\"dataframe\">\n",
       "  <thead>\n",
       "    <tr style=\"text-align: right;\">\n",
       "      <th></th>\n",
       "      <th>Score</th>\n",
       "      <th>FlairCount</th>\n",
       "      <th>EmojiCount</th>\n",
       "      <th>CommentLength</th>\n",
       "      <th>CommentCharacters</th>\n",
       "      <th>AvgWordLength</th>\n",
       "      <th>LexCount</th>\n",
       "      <th>SentenceCount</th>\n",
       "      <th>ReadEase</th>\n",
       "      <th>SyllableCount</th>\n",
       "      <th>...</th>\n",
       "      <th>Counts_xl torpedo</th>\n",
       "      <th>Counts_year old</th>\n",
       "      <th>Counts_years ago</th>\n",
       "      <th>Counts_years old</th>\n",
       "      <th>Counts_yes yes</th>\n",
       "      <th>Counts_youtube com</th>\n",
       "      <th>Counts_youtube mirror</th>\n",
       "      <th>Counts_yugioh prices</th>\n",
       "      <th>Counts_yugioh wikia</th>\n",
       "      <th>Counts_zh reddit</th>\n",
       "    </tr>\n",
       "  </thead>\n",
       "  <tbody>\n",
       "    <tr>\n",
       "      <th>0</th>\n",
       "      <td>2</td>\n",
       "      <td>0</td>\n",
       "      <td>0</td>\n",
       "      <td>6</td>\n",
       "      <td>23</td>\n",
       "      <td>3.83</td>\n",
       "      <td>6</td>\n",
       "      <td>1</td>\n",
       "      <td>116.15</td>\n",
       "      <td>6</td>\n",
       "      <td>...</td>\n",
       "      <td>0.0</td>\n",
       "      <td>0.0</td>\n",
       "      <td>0.0</td>\n",
       "      <td>0.0</td>\n",
       "      <td>0.0</td>\n",
       "      <td>0.0</td>\n",
       "      <td>0.0</td>\n",
       "      <td>0.0</td>\n",
       "      <td>0.0</td>\n",
       "      <td>0.0</td>\n",
       "    </tr>\n",
       "    <tr>\n",
       "      <th>1</th>\n",
       "      <td>421</td>\n",
       "      <td>0</td>\n",
       "      <td>0</td>\n",
       "      <td>11</td>\n",
       "      <td>64</td>\n",
       "      <td>5.82</td>\n",
       "      <td>11</td>\n",
       "      <td>1</td>\n",
       "      <td>68.77</td>\n",
       "      <td>16</td>\n",
       "      <td>...</td>\n",
       "      <td>0.0</td>\n",
       "      <td>0.0</td>\n",
       "      <td>0.0</td>\n",
       "      <td>0.0</td>\n",
       "      <td>0.0</td>\n",
       "      <td>0.0</td>\n",
       "      <td>0.0</td>\n",
       "      <td>0.0</td>\n",
       "      <td>0.0</td>\n",
       "      <td>0.0</td>\n",
       "    </tr>\n",
       "  </tbody>\n",
       "</table>\n",
       "<p>2 rows × 1010 columns</p>\n",
       "</div>"
      ],
      "text/plain": [
       "   Score  FlairCount  EmojiCount  CommentLength  CommentCharacters  \\\n",
       "0      2           0           0              6                 23   \n",
       "1    421           0           0             11                 64   \n",
       "\n",
       "   AvgWordLength  LexCount  SentenceCount  ReadEase  SyllableCount  ...  \\\n",
       "0           3.83         6              1    116.15              6  ...   \n",
       "1           5.82        11              1     68.77             16  ...   \n",
       "\n",
       "   Counts_xl torpedo  Counts_year old  Counts_years ago  Counts_years old  \\\n",
       "0                0.0              0.0               0.0               0.0   \n",
       "1                0.0              0.0               0.0               0.0   \n",
       "\n",
       "   Counts_yes yes  Counts_youtube com  Counts_youtube mirror  \\\n",
       "0             0.0                 0.0                    0.0   \n",
       "1             0.0                 0.0                    0.0   \n",
       "\n",
       "   Counts_yugioh prices  Counts_yugioh wikia  Counts_zh reddit  \n",
       "0                   0.0                  0.0               0.0  \n",
       "1                   0.0                  0.0               0.0  \n",
       "\n",
       "[2 rows x 1010 columns]"
      ]
     },
     "execution_count": 279,
     "metadata": {},
     "output_type": "execute_result"
    }
   ],
   "source": [
    "#Drop Categorical/Text Features\n",
    "X_test = X_test.drop(['ID', 'Author', 'Comment', 'Subreddit', 'Time', 'Flair', 'Class','CommentClean'], axis=1)\n",
    "\n",
    "#Visual Check\n",
    "X_test.head(2)"
   ]
  },
  {
   "cell_type": "code",
   "execution_count": 280,
   "metadata": {},
   "outputs": [
    {
     "data": {
      "text/plain": [
       "(4141, 1010)"
      ]
     },
     "execution_count": 280,
     "metadata": {},
     "output_type": "execute_result"
    }
   ],
   "source": [
    "X_test.shape"
   ]
  },
  {
   "cell_type": "markdown",
   "metadata": {},
   "source": [
    "#### v. Scale Train and Test Sets"
   ]
  },
  {
   "cell_type": "code",
   "execution_count": 281,
   "metadata": {},
   "outputs": [
    {
     "data": {
      "text/plain": [
       "array([[0.03333829, 0.        , 0.        , ..., 0.        , 0.        ,\n",
       "        0.        ],\n",
       "       [0.04578814, 0.        , 0.        , ..., 0.        , 0.        ,\n",
       "        0.        ],\n",
       "       [0.03330857, 0.        , 0.        , ..., 0.        , 0.        ,\n",
       "        0.        ],\n",
       "       ...,\n",
       "       [0.03327886, 0.        , 0.        , ..., 0.        , 0.        ,\n",
       "        0.        ],\n",
       "       [0.03330857, 0.25      , 0.        , ..., 0.        , 0.        ,\n",
       "        0.        ],\n",
       "       [0.03330857, 0.25      , 0.        , ..., 0.        , 0.        ,\n",
       "        0.        ]])"
      ]
     },
     "execution_count": 281,
     "metadata": {},
     "output_type": "execute_result"
    }
   ],
   "source": [
    "#Instantiate MinMaxScaler\n",
    "mm_scaler = preprocessing.MinMaxScaler()\n",
    "\n",
    "#Fit and Transform X_train\n",
    "mm_scaler.fit_transform(X_train)\n",
    "\n",
    "#Transform X_test\n",
    "mm_scaler.transform(X_test)"
   ]
  },
  {
   "cell_type": "markdown",
   "metadata": {},
   "source": [
    "### <a id='FM'>D. Fit Models</a>"
   ]
  },
  {
   "cell_type": "markdown",
   "metadata": {},
   "source": [
    "#### i. Logistic Regression"
   ]
  },
  {
   "cell_type": "code",
   "execution_count": 282,
   "metadata": {},
   "outputs": [
    {
     "name": "stdout",
     "output_type": "stream",
     "text": [
      "Accuracy of logistic regression classifier on test set: 0.85\n"
     ]
    },
    {
     "name": "stderr",
     "output_type": "stream",
     "text": [
      "lbfgs failed to converge (status=1):\n",
      "STOP: TOTAL NO. of ITERATIONS REACHED LIMIT.\n",
      "\n",
      "Increase the number of iterations (max_iter) or scale the data as shown in:\n",
      "    https://scikit-learn.org/stable/modules/preprocessing.html\n",
      "Please also refer to the documentation for alternative solver options:\n",
      "    https://scikit-learn.org/stable/modules/linear_model.html#logistic-regression\n"
     ]
    }
   ],
   "source": [
    "clf = LogisticRegression(max_iter=1000)\n",
    "\n",
    "# Fit the model on the training data.\n",
    "clf.fit(X_train, y_train)\n",
    "\n",
    "# Print the accuracy from the testing data.\n",
    "y_pred = clf.predict(X_test)\n",
    "print('Accuracy of logistic regression classifier on test set: {:.2f}'.format(clf.score(X_test, y_test)))"
   ]
  },
  {
   "cell_type": "markdown",
   "metadata": {},
   "source": [
    "#### ii. Gradient Boosting Classifier"
   ]
  },
  {
   "cell_type": "code",
   "execution_count": 283,
   "metadata": {},
   "outputs": [
    {
     "name": "stdout",
     "output_type": "stream",
     "text": [
      "Accuracy score (training): 0.936\n",
      "Accuracy score (validation): 0.900\n",
      "\n"
     ]
    }
   ],
   "source": [
    "gb = GradientBoostingClassifier(n_estimators=100, learning_rate = .25, max_features=1000, max_depth = 10, random_state = 0, min_samples_split=50)\n",
    "gb.fit(X_train, y_train)\n",
    "print(\"Accuracy score (training): {0:.3f}\".format(gb.score(X_train, y_train)))\n",
    "print(\"Accuracy score (validation): {0:.3f}\".format(gb.score(X_test, y_test)))\n",
    "print()\n"
   ]
  },
  {
   "cell_type": "markdown",
   "metadata": {},
   "source": [
    "### <a id='SD'>D. Save Data and Models</a>"
   ]
  },
  {
   "cell_type": "markdown",
   "metadata": {},
   "source": [
    "#### i. Data"
   ]
  },
  {
   "cell_type": "code",
   "execution_count": 295,
   "metadata": {},
   "outputs": [],
   "source": [
    "X_train.to_csv('Data/X_train.csv', index=False)"
   ]
  },
  {
   "cell_type": "code",
   "execution_count": 296,
   "metadata": {},
   "outputs": [],
   "source": [
    "X_test.to_csv('Data/X_test.csv', index=False)"
   ]
  },
  {
   "cell_type": "code",
   "execution_count": 297,
   "metadata": {},
   "outputs": [],
   "source": [
    "y_train.to_csv('Data/y_train.csv', index=False)"
   ]
  },
  {
   "cell_type": "code",
   "execution_count": 298,
   "metadata": {},
   "outputs": [],
   "source": [
    "y_test.to_csv('Data/y_test.csv', index=False)"
   ]
  },
  {
   "cell_type": "markdown",
   "metadata": {},
   "source": [
    "#### ii. Count Vectorizer and TfidfTransformer"
   ]
  },
  {
   "cell_type": "code",
   "execution_count": 288,
   "metadata": {},
   "outputs": [],
   "source": [
    "#Save Count Vectorizer\n",
    "cv_pickle = 'Models/cv.pkl'\n",
    "pickle.dump(cv, open(cv_pickle, 'wb'))"
   ]
  },
  {
   "cell_type": "code",
   "execution_count": 289,
   "metadata": {},
   "outputs": [],
   "source": [
    "#Save TfidfTransformer\n",
    "tf_pickle = 'Models/tf.pkl'\n",
    "pickle.dump(tf, open(tf_pickle, 'wb'))"
   ]
  },
  {
   "cell_type": "markdown",
   "metadata": {},
   "source": [
    "#### iii. Scaler"
   ]
  },
  {
   "cell_type": "code",
   "execution_count": 290,
   "metadata": {},
   "outputs": [],
   "source": [
    "mm_pickle = 'Models/scaler.pkl'\n",
    "pickle.dump(mm_scaler, open(mm_pickle, 'wb'))"
   ]
  },
  {
   "cell_type": "markdown",
   "metadata": {},
   "source": [
    "#### iv. Models"
   ]
  },
  {
   "cell_type": "code",
   "execution_count": 291,
   "metadata": {},
   "outputs": [],
   "source": [
    "#Save Logistic Regression Model\n",
    "lr_pickle = 'Models/Logistic_Regression_Model.pkl'\n",
    "pickle.dump(clf, open(lr_pickle, 'wb'))"
   ]
  },
  {
   "cell_type": "code",
   "execution_count": 292,
   "metadata": {},
   "outputs": [
    {
     "name": "stdout",
     "output_type": "stream",
     "text": [
      "0.850277710697899\n"
     ]
    }
   ],
   "source": [
    "# Check Model\n",
    "loaded_model = pickle.load(open(lr_pickle, 'rb'))\n",
    "result = loaded_model.score(X_test, y_test)\n",
    "print(result)"
   ]
  },
  {
   "cell_type": "code",
   "execution_count": 293,
   "metadata": {},
   "outputs": [],
   "source": [
    "#Save Gradient Boosting Model\n",
    "gb_pickle = 'Models/Gradient_Boosting_Model.pkl'\n",
    "pickle.dump(gb, open(gb_pickle, 'wb'))"
   ]
  },
  {
   "cell_type": "code",
   "execution_count": 294,
   "metadata": {},
   "outputs": [
    {
     "name": "stdout",
     "output_type": "stream",
     "text": [
      "0.8997826611929486\n"
     ]
    }
   ],
   "source": [
    "# Check Model\n",
    "loaded_model = pickle.load(open(gb_pickle, 'rb'))\n",
    "result = loaded_model.score(X_test, y_test)\n",
    "print(result)"
   ]
  }
 ],
 "metadata": {
  "kernelspec": {
   "display_name": "Python 3",
   "language": "python",
   "name": "python3"
  },
  "language_info": {
   "codemirror_mode": {
    "name": "ipython",
    "version": 3
   },
   "file_extension": ".py",
   "mimetype": "text/x-python",
   "name": "python",
   "nbconvert_exporter": "python",
   "pygments_lexer": "ipython3",
   "version": "3.7.6"
  }
 },
 "nbformat": 4,
 "nbformat_minor": 4
}
